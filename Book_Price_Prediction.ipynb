{
  "nbformat": 4,
  "nbformat_minor": 0,
  "metadata": {
    "accelerator": "GPU",
    "colab": {
      "name": "Book Price Prediction.ipynb",
      "provenance": [],
      "collapsed_sections": [],
      "include_colab_link": true
    },
    "kernelspec": {
      "display_name": "Python 3",
      "language": "python",
      "name": "python3"
    },
    "language_info": {
      "codemirror_mode": {
        "name": "ipython",
        "version": 3
      },
      "file_extension": ".py",
      "mimetype": "text/x-python",
      "name": "python",
      "nbconvert_exporter": "python",
      "pygments_lexer": "ipython3",
      "version": "3.8.5"
    }
  },
  "cells": [
    {
      "cell_type": "markdown",
      "metadata": {
        "id": "view-in-github",
        "colab_type": "text"
      },
      "source": [
        "<a href=\"https://colab.research.google.com/github/vavme/Books-Price-Prediction/blob/main/Book_Price_Prediction.ipynb\" target=\"_parent\"><img src=\"https://colab.research.google.com/assets/colab-badge.svg\" alt=\"Open In Colab\"/></a>"
      ]
    },
    {
      "cell_type": "code",
      "metadata": {
        "id": "PO0gC55yWOoL"
      },
      "source": [
        "import numpy as np\n",
        "import pandas as pd"
      ],
      "execution_count": null,
      "outputs": []
    },
    {
      "cell_type": "code",
      "metadata": {
        "id": "V7Ay5RrDx0Q8"
      },
      "source": [
        "from tensorflow.keras.utils import plot_model"
      ],
      "execution_count": null,
      "outputs": []
    },
    {
      "cell_type": "code",
      "metadata": {
        "id": "QgeEs4L8x0Q9"
      },
      "source": [
        "import tensorflow as tf"
      ],
      "execution_count": null,
      "outputs": []
    },
    {
      "cell_type": "code",
      "metadata": {
        "colab": {
          "base_uri": "https://localhost:8080/"
        },
        "id": "faaIv-IPWOoP",
        "outputId": "7a4b17fc-afb3-49db-e6b8-932ef90dc490"
      },
      "source": [
        "import tensorflow as tf\n",
        "from tensorflow.keras.preprocessing.text import Tokenizer\n",
        "from tensorflow.keras.preprocessing.sequence import pad_sequences\n",
        "from tensorflow.keras import Sequential\n",
        "from tensorflow.keras.layers import Flatten, Dense, Embedding, Conv1D, GlobalMaxPooling1D, Dropout\n",
        "from tensorflow.keras.callbacks import EarlyStopping, ReduceLROnPlateau\n",
        "\n",
        "from sklearn.metrics import accuracy_score, precision_score, recall_score, f1_score, confusion_matrix, classification_report\n",
        "from sklearn.preprocessing import OneHotEncoder\n",
        "from sklearn.model_selection import train_test_split\n",
        "\n",
        "from nltk.stem import PorterStemmer\n",
        "import re\n",
        "import nltk\n",
        "nltk.download('stopwords')\n",
        "nltk.download('punkt')\n",
        "from nltk.corpus import stopwords\n",
        "\n",
        "import matplotlib.pyplot as plt\n",
        "import seaborn as sns\n"
      ],
      "execution_count": null,
      "outputs": [
        {
          "name": "stderr",
          "output_type": "stream",
          "text": [
            "[nltk_data] Downloading package stopwords to\n",
            "[nltk_data]     C:\\Users\\Vav\\AppData\\Roaming\\nltk_data...\n",
            "[nltk_data]   Package stopwords is already up-to-date!\n",
            "[nltk_data] Downloading package punkt to\n",
            "[nltk_data]     C:\\Users\\Vav\\AppData\\Roaming\\nltk_data...\n",
            "[nltk_data]   Package punkt is already up-to-date!\n"
          ]
        }
      ]
    },
    {
      "cell_type": "code",
      "metadata": {
        "id": "SSFylrHLx0RB"
      },
      "source": [
        "from sklearn import preprocessing"
      ],
      "execution_count": null,
      "outputs": []
    },
    {
      "cell_type": "code",
      "metadata": {
        "id": "mOmInHlZWOoa"
      },
      "source": [
        "from mlxtend.plotting import plot_confusion_matrix"
      ],
      "execution_count": null,
      "outputs": []
    },
    {
      "cell_type": "code",
      "metadata": {
        "id": "7SQ4F_y9x0RD"
      },
      "source": [
        "from sklearn.preprocessing import MinMaxScaler"
      ],
      "execution_count": null,
      "outputs": []
    },
    {
      "cell_type": "markdown",
      "metadata": {
        "id": "nKN4vIibx0RF"
      },
      "source": [
        "Missing value pada genre_0"
      ]
    },
    {
      "cell_type": "code",
      "metadata": {
        "id": "mZ8qJEnVWOob"
      },
      "source": [
        "# The maximum number of words to be used. (most frequent)\n",
        "vocab_size = 50000\n",
        "\n",
        "# Dimension of the dense embedding.\n",
        "embedding_dim = 128\n",
        "\n",
        "# Max number of words in each complaint.\n",
        "max_length = 200\n",
        "\n",
        "# Truncate and padding options\n",
        "trunc_type = 'post'\n",
        "padding_type = 'post'\n",
        "oov_tok = '<OOV>'"
      ],
      "execution_count": null,
      "outputs": []
    },
    {
      "cell_type": "code",
      "metadata": {
        "id": "MeRhon0nWOod"
      },
      "source": [
        "df = pd.read_csv('public-train_prepros.csv')\n",
        "\n",
        "df_prep = df[df.total_weight == 1]\n",
        "df_prep_test = df[df.total_weight == 0]\n",
        "\n",
        "df_prep_test.head()\n",
        "\n",
        "df_prep = df_prep[['description','genre_0']]\n",
        "df_prep_test = df_prep_test[['description','genre_0']]\n",
        "\n",
        "desc = df_prep.description.tolist()\n",
        "\n",
        "genre = df_prep.genre_0.tolist()"
      ],
      "execution_count": null,
      "outputs": []
    },
    {
      "cell_type": "code",
      "metadata": {
        "id": "oCmw-SHSWOod"
      },
      "source": [
        "df = pd.read_csv('public-train_prepros.csv')"
      ],
      "execution_count": null,
      "outputs": []
    },
    {
      "cell_type": "code",
      "metadata": {
        "id": "h2nCgR_zWOof"
      },
      "source": [
        "df_train = df[df.total_weight == 1]\n",
        "df_test = df[df.total_weight == 0]"
      ],
      "execution_count": null,
      "outputs": []
    },
    {
      "cell_type": "code",
      "metadata": {
        "id": "idTCTI6SWOoi"
      },
      "source": [
        "df_train = df_train[['description','genre_0']]\n",
        "df_test = df_test[['description','genre_0']]"
      ],
      "execution_count": null,
      "outputs": []
    },
    {
      "cell_type": "code",
      "metadata": {
        "colab": {
          "base_uri": "https://localhost:8080/"
        },
        "id": "DwHf3CydWOom",
        "outputId": "a0a43ddb-ae97-41b5-c765-fcdf93b5d7f3"
      },
      "source": [
        "len(set(df_train.genre_0.to_list()))"
      ],
      "execution_count": null,
      "outputs": [
        {
          "data": {
            "text/plain": [
              "80"
            ]
          },
          "execution_count": 221,
          "metadata": {},
          "output_type": "execute_result"
        }
      ]
    },
    {
      "cell_type": "code",
      "metadata": {
        "colab": {
          "base_uri": "https://localhost:8080/",
          "height": 204
        },
        "id": "IaDTm-qEWOon",
        "scrolled": true,
        "outputId": "a632c738-fcc5-4f24-e842-bbaf534f579d"
      },
      "source": [
        "df_train.head(5)"
      ],
      "execution_count": null,
      "outputs": [
        {
          "data": {
            "text/html": [
              "<div>\n",
              "<style scoped>\n",
              "    .dataframe tbody tr th:only-of-type {\n",
              "        vertical-align: middle;\n",
              "    }\n",
              "\n",
              "    .dataframe tbody tr th {\n",
              "        vertical-align: top;\n",
              "    }\n",
              "\n",
              "    .dataframe thead th {\n",
              "        text-align: right;\n",
              "    }\n",
              "</style>\n",
              "<table border=\"1\" class=\"dataframe\">\n",
              "  <thead>\n",
              "    <tr style=\"text-align: right;\">\n",
              "      <th></th>\n",
              "      <th>description</th>\n",
              "      <th>genre_0</th>\n",
              "    </tr>\n",
              "  </thead>\n",
              "  <tbody>\n",
              "    <tr>\n",
              "      <th>0</th>\n",
              "      <td>Just after the Second World War, in the small ...</td>\n",
              "      <td>Historical Fiction</td>\n",
              "    </tr>\n",
              "    <tr>\n",
              "      <th>1</th>\n",
              "      <td>Blame it on Hawaii’s rainbows, sparkling beach...</td>\n",
              "      <td>Memoir</td>\n",
              "    </tr>\n",
              "    <tr>\n",
              "      <th>2</th>\n",
              "      <td>The Pulitzer Prize–winning, bestselling author...</td>\n",
              "      <td>Nonfiction</td>\n",
              "    </tr>\n",
              "    <tr>\n",
              "      <th>3</th>\n",
              "      <td>THINGS ARE ABOUT TO GET SERIOUS FOR HARRY DRES...</td>\n",
              "      <td>Fantasy</td>\n",
              "    </tr>\n",
              "    <tr>\n",
              "      <th>4</th>\n",
              "      <td>The Romanovs were the most successful dynasty ...</td>\n",
              "      <td>History</td>\n",
              "    </tr>\n",
              "  </tbody>\n",
              "</table>\n",
              "</div>"
            ],
            "text/plain": [
              "                                         description             genre_0\n",
              "0  Just after the Second World War, in the small ...  Historical Fiction\n",
              "1  Blame it on Hawaii’s rainbows, sparkling beach...              Memoir\n",
              "2  The Pulitzer Prize–winning, bestselling author...          Nonfiction\n",
              "3  THINGS ARE ABOUT TO GET SERIOUS FOR HARRY DRES...             Fantasy\n",
              "4  The Romanovs were the most successful dynasty ...             History"
            ]
          },
          "execution_count": 222,
          "metadata": {},
          "output_type": "execute_result"
        }
      ]
    },
    {
      "cell_type": "code",
      "metadata": {
        "colab": {
          "base_uri": "https://localhost:8080/"
        },
        "id": "R7rF5wglWOop",
        "outputId": "46bd8a2a-80f5-4e20-c349-9b5ff6a9fa6e"
      },
      "source": [
        "print(df_train[\"description\"].to_list()[:5])\n",
        "original_text = df_train[\"description\"].to_list()[:50]"
      ],
      "execution_count": null,
      "outputs": [
        {
          "name": "stdout",
          "output_type": "stream",
          "text": [
            "[\"Just after the Second World War, in the small English village of Chawton, an unusual but like-minded group of people band together to attempt something remarkable.One hundred and fifty years ago, Chawton was the final home of Jane Austen, one of England's finest novelists. Now it's home to a few distant relatives and their diminishing estate. With the last bit of Austen's legacy threatened, a group of disparate individuals come together to preserve both Jane Austen's home and her legacy. These people—a laborer, a young widow, the local doctor, and a movie star, among others—could not be more different and yet they are united in their love for the works and words of Austen. As each of them endures their own quiet struggle with loss and trauma, some from the recent war, others from more distant tragedies, they rally together to create the Jane Austen Society.\", 'Blame it on Hawaii’s rainbows, sparkling beaches, fruity cocktails, and sensuous breezes. For Heather Diamond, there for a summer course on China, a sea change began when romance bloomed with Fred, an ethnomusicologist from Hong Kong.One night under a full moon, Fred tells Heather the story of Chang’e, the moon goddess. He points out how the shadows form a rabbit pounding an elixir of immortality, but all Heather sees in the moon is a man’s face.Returning to her teaching job in Texas, Heather wonders if the whirlwind affair was a moment of madness. She is, after all, forty-five years old, married, a mother and grandmother.Rabbit in the Moon follows Heather and Fred’s relationship as well as Heather’s challenges with multiple mid-life reinventions, such as moving to Hawaii, entering a Ph.D. program, and living in a dorm with students half her age.When Fred goes on sabbatical, Heather finds herself on the Hong Kong island of Cheung Chau with his large, boisterous family. For an independent, reserved American, adjusting to his extended family isn’t easy. She wants to fit in, but is culture shocked by the lack of privacy, the language barrier, and the Chinese aesthetic of renao (“hot & noisy”).Life on Cheung Chau is overwhelming but also wondrous. Heather chronicles family celebrations, ancestor rituals, and a rich cycle of festivals like the Hungry Ghosts Festival, Chinese New Year, and the Bun Festival. Her descriptions of daily life and traditions are exquisite, seamlessly combining the insights of an ethnographer with the fascination of a curious newcomer who gradually transitions topart of the family.Ultimately, Heather’s experiences abroad make her realize what she has overlooked with her own family back in the United States, and she sets about making amends.Moving between Hawaii, Hong Kong, and the continental US, Rabbit in the Moon is an honest, finely crafted meditation on intercultural marriage, the importance of family, and finding the courage to follow your dreams.', 'The Pulitzer Prize–winning, bestselling author of The Warmth of Other Suns examines the unspoken caste system that has shaped America and shows how our lives today are still defined by a hierarchy of human divisions.“As we go about our daily lives, caste is the wordless usher in a darkened theater, flashlight cast down in the aisles, guiding us to our assigned seats for a performance. The hierarchy of caste is not about feelings or morality. It is about power—which groups have it and which do not.”In this brilliant book, Isabel Wilkerson gives us a masterful portrait of an unseen phenomenon in America as she explores, through an immersive, deeply researched narrative and stories about real people, how America today and throughout its history has been shaped by a hidden caste system, a rigid hierarchy of human rankings.Beyond race, class, or other factors, there is a powerful caste system that influences people’s lives and behavior and the nation’s fate. Linking the caste systems of America, India, and Nazi Germany, Wilkerson explores eight pillars that underlie caste systems across civilizations, including divine will, bloodlines, stigma, and more. Using riveting stories about people—including Martin Luther King, Jr., baseball’s Satchel Paige, a single father and his toddler son, Wilkerson herself, and many others—she shows the ways that the insidious undertow of caste is experienced every day. She documents how the Nazis studied the racial systems in America to plan their out-cast of the Jews; she discusses why the cruel logic of caste requires that there be a bottom rung for those in the middle to measure themselves against; she writes about the surprising health costs of caste, in depression and life expectancy, and the effects of this hierarchy on our culture and politics. Finally, she points forward to ways America can move beyond the artificial and destructive separations of human divisions, toward hope in our common humanity.', 'THINGS ARE ABOUT TO GET SERIOUS FOR HARRY DRESDEN, CHICAGO’S ONLY PROFESSIONAL WIZARD, in the next entry in the #1 New York Times bestselling Dresden Files.Harry has faced terrible odds before. He has a long history of fighting enemies above his weight class. The Red Court of vampires. The fallen angels of the Order of the Blackened Denarius. The Outsiders.But this time it’s different. A being more powerful and dangerous on an order of magnitude beyond what the world has seen in a millennium is coming. And she’s bringing an army. The Last Titan has declared war on the city of Chicago, and has come to subjugate humanity, obliterating any who stand in her way.Harry’s mission is simple but impossible: Save the city by killing a Titan. And the attempt will change Harry’s life, Chicago, and the mortal world forever.---Includes the short story \"Christmas Eve\".', 'The Romanovs were the most successful dynasty of modern times, ruling a sixth of the world’s surface for three centuries. How did one family turn a war-ruined principality into the world’s greatest empire? And how did they lose it all? This is the intimate story of twenty tsars and tsarinas, some touched by genius, some by madness, but all inspired by holy autocracy and imperial ambition. Simon Sebag Montefiore’s gripping chronicle reveals their secret world of unlimited power and ruthless empire-building, overshadowed by palace conspiracy, family rivalries, sexual decadence and wild extravagance, with a global cast of adventurers, courtesans, revolutionaries and poets, from Ivan the Terrible to Tolstoy and Pushkin, to Bismarck, Lincoln, Queen Victoria and Lenin.']\n"
          ]
        }
      ]
    },
    {
      "cell_type": "code",
      "metadata": {
        "id": "IJJ1ojzKWOos"
      },
      "source": [
        "#Membersihkan dataset\n",
        "stemmer = PorterStemmer()\n",
        "\n",
        "REPLACE_BY_SPACE_RE = re.compile('[/(){}\\[\\]\\|@,;]')\n",
        "BAD_SYMBOLS_RE = re.compile('[^0-9a-z #+_]')\n",
        "REMOVE_NUM = re.compile('[\\d+]')\n",
        "STOPWORDS = set(stopwords.words('english'))\n",
        "\n",
        "def clean_text(text):\n",
        "    \"\"\"\n",
        "    text: a string\n",
        "    return: modified initial string\n",
        "    \"\"\"\n",
        "    # lowercase text\n",
        "    text = text.lower() \n",
        "\n",
        "    # replace REPLACE_BY_SPACE_RE symbols by space in text\n",
        "    text = REPLACE_BY_SPACE_RE.sub(' ', text) \n",
        "    \n",
        "    # Remove the XXXX values\n",
        "    text = text.replace('x', '') \n",
        "    \n",
        "    # Remove white space\n",
        "    text = REMOVE_NUM.sub('', text)\n",
        "\n",
        "    #  delete symbols which are in BAD_SYMBOLS_RE from text\n",
        "    text = BAD_SYMBOLS_RE.sub('', text) \n",
        "\n",
        "    # delete stopwords from text\n",
        "    text = ' '.join(word for word in text.split() if word not in STOPWORDS) \n",
        "    \n",
        "    # removes any words composed of less than 2 or more than 21 letters\n",
        "    text = ' '.join(word for word in text.split() if (len(word) >= 2 and len(word) <= 21))\n",
        "\n",
        "    # Stemming the words\n",
        "    text = ' '.join([stemmer.stem(word) for word in text.split()])\n",
        "    \n",
        "    return text"
      ],
      "execution_count": null,
      "outputs": []
    },
    {
      "cell_type": "code",
      "metadata": {
        "colab": {
          "base_uri": "https://localhost:8080/"
        },
        "id": "6hO4SbqdWOov",
        "outputId": "011cfa69-ea3b-492d-b52d-0933699587d2"
      },
      "source": [
        "df_train[\"description\"] = df_train[\"description\"].apply(clean_text)\n",
        "df_train[\"description\"].head(5)"
      ],
      "execution_count": null,
      "outputs": [
        {
          "data": {
            "text/plain": [
              "0    second world war small english villag chawton ...\n",
              "1    blame hawaii rainbow sparkl beach fruiti cockt...\n",
              "2    pulitz prizewin bestsel author warmth sun eami...\n",
              "3    thing get seriou harri dresden chicago profess...\n",
              "4    romanov success dynasti modern time rule sith ...\n",
              "Name: description, dtype: object"
            ]
          },
          "execution_count": 225,
          "metadata": {},
          "output_type": "execute_result"
        }
      ]
    },
    {
      "cell_type": "code",
      "metadata": {
        "id": "_fofMrcrWOoz"
      },
      "source": [
        "df_train = df_train.sample(frac=1, random_state=123)"
      ],
      "execution_count": null,
      "outputs": []
    },
    {
      "cell_type": "code",
      "metadata": {
        "colab": {
          "base_uri": "https://localhost:8080/"
        },
        "id": "lmEym-40WOo6",
        "outputId": "83222ec9-3d53-4b0a-a907-e45ddb9d9d52"
      },
      "source": [
        "len(np.unique(labels))"
      ],
      "execution_count": null,
      "outputs": [
        {
          "data": {
            "text/plain": [
              "80"
            ]
          },
          "execution_count": 228,
          "metadata": {},
          "output_type": "execute_result"
        }
      ]
    },
    {
      "cell_type": "code",
      "metadata": {
        "colab": {
          "base_uri": "https://localhost:8080/"
        },
        "id": "QlG0Ydy-WOo9",
        "outputId": "a02efa4a-a3a5-4324-eec6-6fe6b2c9a764"
      },
      "source": [
        "#Memastikan dataset yang di split memiliki jumlah y/label unique yang sama\n",
        "rt = []\n",
        "for i in range(1,100) :\n",
        "    X_train, X_test, y_train, y_test = train_test_split(desc ,labels, test_size = 0.1, random_state = i)\n",
        "    size = len(np.unique(y_train))\n",
        "    if size == 80 :\n",
        "        print(size,'random_state',i)\n",
        "        rt.append(i)"
      ],
      "execution_count": null,
      "outputs": [
        {
          "name": "stdout",
          "output_type": "stream",
          "text": [
            "80 random_state 12\n",
            "80 random_state 33\n",
            "80 random_state 50\n",
            "80 random_state 59\n"
          ]
        }
      ]
    },
    {
      "cell_type": "code",
      "metadata": {
        "colab": {
          "base_uri": "https://localhost:8080/"
        },
        "id": "cCbXu_PjWOo-",
        "scrolled": false,
        "outputId": "cff331f1-b618-4365-bd13-2f526947c1f3"
      },
      "source": [
        "X_train, X_test, y_train, y_test = train_test_split(desc ,labels, test_size = 0.1, random_state = rt[1])\n",
        "\n",
        "flat_list = list(np.concatenate(y_train).flat)\n",
        "len(np.unique(y_train))"
      ],
      "execution_count": null,
      "outputs": [
        {
          "data": {
            "text/plain": [
              "80"
            ]
          },
          "execution_count": 241,
          "metadata": {},
          "output_type": "execute_result"
        }
      ]
    },
    {
      "cell_type": "code",
      "metadata": {
        "colab": {
          "base_uri": "https://localhost:8080/"
        },
        "id": "S6JVUidsWOo_",
        "outputId": "4c8c85bb-789c-4ec0-e773-edd9762f1148"
      },
      "source": [
        "np.unique(labels)"
      ],
      "execution_count": null,
      "outputs": [
        {
          "data": {
            "text/plain": [
              "array(['Adult Fiction', 'Adventure', 'Baseball', 'Biography', 'Birds',\n",
              "       'Buddhism', 'Business', 'Chick Lit', 'Childrens', 'Christian',\n",
              "       'Christian Fiction', 'Christmas', 'Comics', 'Contemporary',\n",
              "       'Contemporary Romance', 'Cookbooks', 'Crime', 'Dark', 'Dragons',\n",
              "       'Drama', 'Dystopia', 'Economics', 'Erotica', 'Essays', 'Fae',\n",
              "       'Fantasy', 'Feminism', 'Fiction', 'Finance', 'Food', 'Gardening',\n",
              "       'Graphic Novels', 'Health', 'Historical Fiction',\n",
              "       'Historical Romance', 'History', 'Horror', 'Humor', 'LGBT',\n",
              "       'Leadership', 'M M Romance', 'Manga', 'Memoir', 'Middle Grade',\n",
              "       'Military Fiction', 'Music', 'Mystery', 'Mystery Thriller',\n",
              "       'Mythology', 'New Adult', 'Nonfiction', 'Paranormal',\n",
              "       'Paranormal Romance', 'Parenting', 'Philosophy', 'Picture Books',\n",
              "       'Poetry', 'Politics', 'Psychology', 'Realistic Fiction',\n",
              "       'Reverse Harem', 'Romance', 'Romantic Suspense', 'Science',\n",
              "       'Science Fiction', 'Self Help', 'Short Stories', 'Sports',\n",
              "       'Star Wars', 'Steampunk', 'Theology', 'Thriller', 'Time Travel',\n",
              "       'Travel', 'True Crime', 'Urban Fantasy', 'Vampires', 'Writing',\n",
              "       'Young Adult', 'Zombies'], dtype=object)"
            ]
          },
          "execution_count": 242,
          "metadata": {},
          "output_type": "execute_result"
        }
      ]
    },
    {
      "cell_type": "code",
      "metadata": {
        "colab": {
          "base_uri": "https://localhost:8080/"
        },
        "id": "9YdT0QaUWOpA",
        "outputId": "d2b8da5e-f8ed-44be-90df-a76b64bde05e"
      },
      "source": [
        "len(np.unique(y_train))"
      ],
      "execution_count": null,
      "outputs": [
        {
          "data": {
            "text/plain": [
              "80"
            ]
          },
          "execution_count": 243,
          "metadata": {},
          "output_type": "execute_result"
        }
      ]
    },
    {
      "cell_type": "code",
      "metadata": {
        "colab": {
          "base_uri": "https://localhost:8080/"
        },
        "id": "FP7p7S_eWOpC",
        "outputId": "9f24c612-ffda-4cce-fa69-346ecac6044d"
      },
      "source": [
        "print(X_train.shape,X_test.shape)\n",
        "print(y_train.shape,y_test.shape)"
      ],
      "execution_count": null,
      "outputs": [
        {
          "name": "stdout",
          "output_type": "stream",
          "text": [
            "(3052,) (340,)\n",
            "(3052, 1) (340, 1)\n"
          ]
        }
      ]
    },
    {
      "cell_type": "code",
      "metadata": {
        "colab": {
          "base_uri": "https://localhost:8080/"
        },
        "id": "ZzN7ZtvoWOpH",
        "outputId": "9c0fa61e-aabe-499f-cb29-56bc4f3ab4cb"
      },
      "source": [
        "tokenizer = Tokenizer(num_words=vocab_size, oov_token='<OOV>')\n",
        "tokenizer.fit_on_texts(X_train)\n",
        "word_index = tokenizer.word_index\n",
        "print('Found %s unique tokens.' % len(word_index))\n",
        "dict(list(word_index.items())[0:10])\n",
        "\n",
        "train_seq = tokenizer.texts_to_sequences(X_train)\n",
        "train_padded = pad_sequences(train_seq, maxlen=max_length, padding=padding_type, truncating=trunc_type)\n",
        "\n",
        "validation_seq = tokenizer.texts_to_sequences(X_test)\n",
        "validation_padded = pad_sequences(validation_seq, maxlen=max_length, padding=padding_type, truncating=trunc_type)\n",
        "print('Shape of data tensor:', train_padded.shape)\n",
        "print('Shape of data tensor:', validation_padded.shape)"
      ],
      "execution_count": null,
      "outputs": [
        {
          "name": "stdout",
          "output_type": "stream",
          "text": [
            "Found 32075 unique tokens.\n",
            "Shape of data tensor: (3052, 200)\n",
            "Shape of data tensor: (340, 200)\n"
          ]
        }
      ]
    },
    {
      "cell_type": "code",
      "metadata": {
        "id": "2HbQ0a3gWOpL"
      },
      "source": [
        "encode = OneHotEncoder()\n",
        "\n",
        "training_labels = encode.fit_transform(y_train)\n",
        "validation_labels = encode.transform(y_test)"
      ],
      "execution_count": null,
      "outputs": []
    },
    {
      "cell_type": "code",
      "metadata": {
        "colab": {
          "base_uri": "https://localhost:8080/"
        },
        "id": "ylGUoYIJWOpN",
        "outputId": "8e6ac362-d82d-446c-97df-91ece46311b4"
      },
      "source": [
        "#Mengatasi Imbalance Data\n",
        "from imblearn.over_sampling import RandomOverSampler\n",
        "ros = RandomOverSampler(random_state=42)\n",
        "train_padded, training_labels = ros.fit_resample(train_padded, training_labels)"
      ],
      "execution_count": null,
      "outputs": [
        {
          "name": "stderr",
          "output_type": "stream",
          "text": [
            "C:\\Users\\Vav\\anaconda3\\lib\\site-packages\\sklearn\\utils\\validation.py:72: DataConversionWarning: A column-vector y was passed when a 1d array was expected. Please change the shape of y to (n_samples, ), for example using ravel().\n",
            "  return f(**kwargs)\n",
            "C:\\Users\\Vav\\anaconda3\\lib\\site-packages\\sklearn\\utils\\validation.py:67: FutureWarning: Pass classes=[ 0  1  2  3  4  5  6  7  8  9 10 11 12 13 14 15 16 17 18 19 20 21 22 23\n",
            " 24 25 26 27 28 29 30 31 32 33 34 35 36 37 38 39 40 41 42 43 44 45 46 47\n",
            " 48 49 50 51 52 53 54 55 56 57 58 59 60 61 62 63 64 65 66 67 68 69 70 71\n",
            " 72 73 74 75 76 77 78 79] as keyword args. From version 0.25 passing these as positional arguments will result in an error\n",
            "  warnings.warn(\"Pass {} as keyword args. From version 0.25 \"\n"
          ]
        }
      ]
    },
    {
      "cell_type": "code",
      "metadata": {
        "colab": {
          "base_uri": "https://localhost:8080/"
        },
        "id": "MfoI4KoCWOpO",
        "outputId": "fc20c52f-fddf-4058-9046-33eec31313fd"
      },
      "source": [
        "print(train_padded.shape)\n",
        "print(validation_labels.shape)\n",
        "print(validation_padded.shape)\n",
        "print(training_labels.shape)\n",
        "print(type(train_padded))\n",
        "print(type(validation_padded))\n",
        "print(type(training_labels))\n",
        "print(type(validation_labels))"
      ],
      "execution_count": null,
      "outputs": [
        {
          "name": "stdout",
          "output_type": "stream",
          "text": [
            "(40480, 200)\n",
            "(340, 80)\n",
            "(340, 200)\n",
            "(40480, 80)\n",
            "<class 'numpy.ndarray'>\n",
            "<class 'numpy.ndarray'>\n",
            "<class 'numpy.ndarray'>\n",
            "<class 'scipy.sparse.csr.csr_matrix'>\n"
          ]
        }
      ]
    },
    {
      "cell_type": "code",
      "metadata": {
        "colab": {
          "base_uri": "https://localhost:8080/"
        },
        "id": "7xYsMelKWOpP",
        "outputId": "cd988c3a-320b-4fc8-f426-2e39310fe62d"
      },
      "source": [
        "validation_labels = validation_labels.toarray()\n",
        "\n",
        "print(type(training_labels))\n",
        "print(type(validation_labels))"
      ],
      "execution_count": null,
      "outputs": [
        {
          "name": "stdout",
          "output_type": "stream",
          "text": [
            "<class 'numpy.ndarray'>\n",
            "<class 'numpy.ndarray'>\n"
          ]
        }
      ]
    },
    {
      "cell_type": "code",
      "metadata": {
        "id": "2r1GxbDMZOdu"
      },
      "source": [
        "#Model Final\n",
        "model_genre = tf.keras.Sequential([\n",
        "    tf.keras.layers.Embedding(vocab_size, embedding_dim),\n",
        "    tf.keras.layers.Bidirectional(tf.keras.layers.LSTM(embedding_dim)),\n",
        "    tf.keras.layers.Dense(embedding_dim, activation='relu'),\n",
        "    tf.keras.layers.Dense(80, activation='softmax')\n",
        "])\n",
        "model_genre.summary()"
      ],
      "execution_count": null,
      "outputs": []
    },
    {
      "cell_type": "code",
      "metadata": {
        "id": "PgFw1OZdhBi_"
      },
      "source": [
        "model_genre.compile(loss='categorical_crossentropy', optimizer='adam', metrics=['accuracy'])\n",
        "epochs = 15\n",
        "\n",
        "history = model_genre.fit(train_padded, training_labels, shuffle=True ,\n",
        "                    epochs=epochs, batch_size=batch_size, \n",
        "                    validation_split=0.2)\n"
      ],
      "execution_count": null,
      "outputs": []
    },
    {
      "cell_type": "code",
      "metadata": {
        "colab": {
          "base_uri": "https://localhost:8080/"
        },
        "id": "mSe2VqOXqwcA",
        "outputId": "0db1faaf-8fe4-4eac-c5dd-024b269c8b5f"
      },
      "source": [
        "model_genre.save(\"my_model_genre1\")"
      ],
      "execution_count": null,
      "outputs": [
        {
          "ename": "NameError",
          "evalue": "name 'model_genre' is not defined",
          "output_type": "error",
          "traceback": [
            "\u001b[1;31m---------------------------------------------------------------------------\u001b[0m",
            "\u001b[1;31mNameError\u001b[0m                                 Traceback (most recent call last)",
            "\u001b[1;32m<ipython-input-898-2cbaa9e7d635>\u001b[0m in \u001b[0;36m<module>\u001b[1;34m\u001b[0m\n\u001b[1;32m----> 1\u001b[1;33m \u001b[0mmodel_genre\u001b[0m\u001b[1;33m.\u001b[0m\u001b[0msave\u001b[0m\u001b[1;33m(\u001b[0m\u001b[1;34m\"my_model_genre1\"\u001b[0m\u001b[1;33m,\u001b[0m\u001b[0msave_format\u001b[0m\u001b[1;33m=\u001b[0m\u001b[1;34m\"h5\"\u001b[0m\u001b[1;33m)\u001b[0m\u001b[1;33m\u001b[0m\u001b[1;33m\u001b[0m\u001b[0m\n\u001b[0m",
            "\u001b[1;31mNameError\u001b[0m: name 'model_genre' is not defined"
          ]
        }
      ]
    },
    {
      "cell_type": "code",
      "metadata": {
        "colab": {
          "base_uri": "https://localhost:8080/",
          "height": 541
        },
        "id": "J2cY4R2GiK_K",
        "outputId": "50f3eea0-abba-45f0-c441-21bfaf02ebea"
      },
      "source": [
        "def plot_graphs(history, string, model):\n",
        "  plt.plot(history.history[string])\n",
        "  plt.plot(history.history['val_'+string])\n",
        "  plt.xlabel(\"Epochs\")\n",
        "  plt.ylabel(string)\n",
        "  plt.title(model)\n",
        "  plt.legend([string, 'val_'+string])\n",
        "  plt.show()\n",
        "  \n",
        "plot_graphs(history, \"accuracy\", 'Genre_0')\n",
        "plot_graphs(history, \"loss\", 'Genre_0')"
      ],
      "execution_count": null,
      "outputs": [
        {
          "data": {
            "image/png": "[encoded data removed]",
            "text/plain": [
              "<Figure size 432x288 with 1 Axes>"
            ]
          },
          "metadata": {
            "needs_background": "light"
          },
          "output_type": "display_data"
        },
        {
          "data": {
            "image/png": "[encoded data removed]",
            "text/plain": [
              "<Figure size 432x288 with 1 Axes>"
            ]
          },
          "metadata": {
            "needs_background": "light"
          },
          "output_type": "display_data"
        }
      ]
    },
    {
      "cell_type": "markdown",
      "metadata": {
        "id": "R9_1CnEPiLxu"
      },
      "source": [
        "======================================================================="
      ]
    },
    {
      "cell_type": "code",
      "metadata": {
        "id": "aq53dvrAx0Rh"
      },
      "source": [
        "df = df.drop('Unnamed: 0',axis=1)"
      ],
      "execution_count": null,
      "outputs": []
    },
    {
      "cell_type": "code",
      "metadata": {
        "scrolled": true,
        "id": "g8mRdBBOx0Ri",
        "outputId": "f3d6ad90-406f-4410-8ee3-dbddb20ae0ab"
      },
      "source": [
        "df.head()"
      ],
      "execution_count": null,
      "outputs": [
        {
          "data": {
            "text/html": [
              "<div>\n",
              "<style scoped>\n",
              "    .dataframe tbody tr th:only-of-type {\n",
              "        vertical-align: middle;\n",
              "    }\n",
              "\n",
              "    .dataframe tbody tr th {\n",
              "        vertical-align: top;\n",
              "    }\n",
              "\n",
              "    .dataframe thead th {\n",
              "        text-align: right;\n",
              "    }\n",
              "</style>\n",
              "<table border=\"1\" class=\"dataframe\">\n",
              "  <thead>\n",
              "    <tr style=\"text-align: right;\">\n",
              "      <th></th>\n",
              "      <th>author_id</th>\n",
              "      <th>description</th>\n",
              "      <th>bookformat</th>\n",
              "      <th>pages</th>\n",
              "      <th>rating_value_0</th>\n",
              "      <th>rating_count_0</th>\n",
              "      <th>genre_0</th>\n",
              "      <th>genre_1</th>\n",
              "      <th>genre_2</th>\n",
              "      <th>genre_3</th>\n",
              "      <th>...</th>\n",
              "      <th>genre_2_weight</th>\n",
              "      <th>genre_3_weight</th>\n",
              "      <th>genre_4_weight</th>\n",
              "      <th>genre_5_weight</th>\n",
              "      <th>genre_6_weight</th>\n",
              "      <th>genre_7_weight</th>\n",
              "      <th>genre_8_weight</th>\n",
              "      <th>genre_9_weight</th>\n",
              "      <th>price</th>\n",
              "      <th>total_weight</th>\n",
              "    </tr>\n",
              "  </thead>\n",
              "  <tbody>\n",
              "    <tr>\n",
              "      <th>0</th>\n",
              "      <td>author2106</td>\n",
              "      <td>Just after the Second World War, in the small ...</td>\n",
              "      <td>Hardcover</td>\n",
              "      <td>309.0</td>\n",
              "      <td>3.76</td>\n",
              "      <td>26625</td>\n",
              "      <td>Historical Fiction</td>\n",
              "      <td>Fiction</td>\n",
              "      <td>Historical</td>\n",
              "      <td>Audiobook</td>\n",
              "      <td>...</td>\n",
              "      <td>0.08</td>\n",
              "      <td>0.06</td>\n",
              "      <td>0.05</td>\n",
              "      <td>0.04</td>\n",
              "      <td>0.03</td>\n",
              "      <td>0.02</td>\n",
              "      <td>0.02</td>\n",
              "      <td>0.02</td>\n",
              "      <td>NaN</td>\n",
              "      <td>1.0</td>\n",
              "    </tr>\n",
              "    <tr>\n",
              "      <th>1</th>\n",
              "      <td>author1018</td>\n",
              "      <td>Blame it on Hawaii’s rainbows, sparkling beach...</td>\n",
              "      <td>Paperback</td>\n",
              "      <td>NaN</td>\n",
              "      <td>4.48</td>\n",
              "      <td>21</td>\n",
              "      <td>Memoir</td>\n",
              "      <td>NaN</td>\n",
              "      <td>NaN</td>\n",
              "      <td>NaN</td>\n",
              "      <td>...</td>\n",
              "      <td>NaN</td>\n",
              "      <td>NaN</td>\n",
              "      <td>NaN</td>\n",
              "      <td>NaN</td>\n",
              "      <td>NaN</td>\n",
              "      <td>NaN</td>\n",
              "      <td>NaN</td>\n",
              "      <td>NaN</td>\n",
              "      <td>NaN</td>\n",
              "      <td>1.0</td>\n",
              "    </tr>\n",
              "    <tr>\n",
              "      <th>2</th>\n",
              "      <td>author1087</td>\n",
              "      <td>The Pulitzer Prize–winning, bestselling author...</td>\n",
              "      <td>Hardcover</td>\n",
              "      <td>496.0</td>\n",
              "      <td>4.56</td>\n",
              "      <td>59885</td>\n",
              "      <td>Nonfiction</td>\n",
              "      <td>History</td>\n",
              "      <td>Politics</td>\n",
              "      <td>Race</td>\n",
              "      <td>...</td>\n",
              "      <td>0.08</td>\n",
              "      <td>0.08</td>\n",
              "      <td>0.05</td>\n",
              "      <td>0.05</td>\n",
              "      <td>0.04</td>\n",
              "      <td>0.02</td>\n",
              "      <td>0.02</td>\n",
              "      <td>0.02</td>\n",
              "      <td>NaN</td>\n",
              "      <td>1.0</td>\n",
              "    </tr>\n",
              "    <tr>\n",
              "      <th>3</th>\n",
              "      <td>author1295</td>\n",
              "      <td>THINGS ARE ABOUT TO GET SERIOUS FOR HARRY DRES...</td>\n",
              "      <td>Hardcover</td>\n",
              "      <td>418.0</td>\n",
              "      <td>4.39</td>\n",
              "      <td>26643</td>\n",
              "      <td>Fantasy</td>\n",
              "      <td>Urban Fantasy</td>\n",
              "      <td>Fiction</td>\n",
              "      <td>Magic</td>\n",
              "      <td>...</td>\n",
              "      <td>0.08</td>\n",
              "      <td>0.05</td>\n",
              "      <td>0.04</td>\n",
              "      <td>0.04</td>\n",
              "      <td>0.03</td>\n",
              "      <td>0.02</td>\n",
              "      <td>0.02</td>\n",
              "      <td>0.02</td>\n",
              "      <td>NaN</td>\n",
              "      <td>1.0</td>\n",
              "    </tr>\n",
              "    <tr>\n",
              "      <th>4</th>\n",
              "      <td>author2622</td>\n",
              "      <td>The Romanovs were the most successful dynasty ...</td>\n",
              "      <td>Hardcover</td>\n",
              "      <td>784.0</td>\n",
              "      <td>3.93</td>\n",
              "      <td>11772</td>\n",
              "      <td>History</td>\n",
              "      <td>Nonfiction</td>\n",
              "      <td>Russia</td>\n",
              "      <td>Biography</td>\n",
              "      <td>...</td>\n",
              "      <td>0.09</td>\n",
              "      <td>0.08</td>\n",
              "      <td>0.04</td>\n",
              "      <td>0.02</td>\n",
              "      <td>0.01</td>\n",
              "      <td>0.01</td>\n",
              "      <td>0.01</td>\n",
              "      <td>0.01</td>\n",
              "      <td>NaN</td>\n",
              "      <td>1.0</td>\n",
              "    </tr>\n",
              "  </tbody>\n",
              "</table>\n",
              "<p>5 rows × 28 columns</p>\n",
              "</div>"
            ],
            "text/plain": [
              "    author_id                                        description bookformat  \\\n",
              "0  author2106  Just after the Second World War, in the small ...  Hardcover   \n",
              "1  author1018  Blame it on Hawaii’s rainbows, sparkling beach...  Paperback   \n",
              "2  author1087  The Pulitzer Prize–winning, bestselling author...  Hardcover   \n",
              "3  author1295  THINGS ARE ABOUT TO GET SERIOUS FOR HARRY DRES...  Hardcover   \n",
              "4  author2622  The Romanovs were the most successful dynasty ...  Hardcover   \n",
              "\n",
              "   pages  rating_value_0  rating_count_0             genre_0        genre_1  \\\n",
              "0  309.0            3.76           26625  Historical Fiction        Fiction   \n",
              "1    NaN            4.48              21              Memoir            NaN   \n",
              "2  496.0            4.56           59885          Nonfiction        History   \n",
              "3  418.0            4.39           26643             Fantasy  Urban Fantasy   \n",
              "4  784.0            3.93           11772             History     Nonfiction   \n",
              "\n",
              "      genre_2    genre_3  ... genre_2_weight genre_3_weight genre_4_weight  \\\n",
              "0  Historical  Audiobook  ...           0.08           0.06           0.05   \n",
              "1         NaN        NaN  ...            NaN            NaN            NaN   \n",
              "2    Politics       Race  ...           0.08           0.08           0.05   \n",
              "3     Fiction      Magic  ...           0.08           0.05           0.04   \n",
              "4      Russia  Biography  ...           0.09           0.08           0.04   \n",
              "\n",
              "  genre_5_weight genre_6_weight genre_7_weight  genre_8_weight  \\\n",
              "0           0.04           0.03           0.02            0.02   \n",
              "1            NaN            NaN            NaN             NaN   \n",
              "2           0.05           0.04           0.02            0.02   \n",
              "3           0.04           0.03           0.02            0.02   \n",
              "4           0.02           0.01           0.01            0.01   \n",
              "\n",
              "   genre_9_weight  price  total_weight  \n",
              "0            0.02    NaN           1.0  \n",
              "1             NaN    NaN           1.0  \n",
              "2            0.02    NaN           1.0  \n",
              "3            0.02    NaN           1.0  \n",
              "4            0.01    NaN           1.0  \n",
              "\n",
              "[5 rows x 28 columns]"
            ]
          },
          "execution_count": 251,
          "metadata": {},
          "output_type": "execute_result"
        }
      ]
    },
    {
      "cell_type": "code",
      "metadata": {
        "id": "pLHbnUTPx0Rj",
        "outputId": "c8e68f4f-af41-49bd-c886-24f00cbcebda"
      },
      "source": [
        "df[df['genre_0'].isnull()].index.tolist()"
      ],
      "execution_count": null,
      "outputs": [
        {
          "data": {
            "text/plain": [
              "[]"
            ]
          },
          "execution_count": 488,
          "metadata": {},
          "output_type": "execute_result"
        }
      ]
    },
    {
      "cell_type": "code",
      "metadata": {
        "scrolled": true,
        "id": "NWN1YeE2x0Rk",
        "outputId": "167e1bdd-54d0-46c5-ad04-116d68dad9ac"
      },
      "source": [
        "#Impute Missing value pada genre_0\n",
        "index_mv_genre_0 = df[df['genre_0'].isnull()].index.tolist()\n",
        "\n",
        "for i in index_mv_genre_0 :\n",
        "    df_desc = df[\"description\"].iloc[i]\n",
        "    df_desc = [clean_text(df_desc)]\n",
        "    df_desc = tokenizer.texts_to_sequences(df_desc)\n",
        "    df_desc_padded = pad_sequences(df_desc, maxlen=max_length, padding=padding_type, truncating=trunc_type)\n",
        "    result_genre = model_genre.predict(df_desc_padded)\n",
        "    pred = encode.inverse_transform(result_genre)\n",
        "    df['genre_0'].iloc[i] = str(pred.tolist()[0][0])"
      ],
      "execution_count": null,
      "outputs": [
        {
          "ename": "AttributeError",
          "evalue": "'str' object has no attribute 'values'",
          "output_type": "error",
          "traceback": [
            "\u001b[1;31m---------------------------------------------------------------------------\u001b[0m",
            "\u001b[1;31mAttributeError\u001b[0m                            Traceback (most recent call last)",
            "\u001b[1;32m<ipython-input-252-ffd1bdb6b906>\u001b[0m in \u001b[0;36m<module>\u001b[1;34m\u001b[0m\n\u001b[0;32m      3\u001b[0m \u001b[1;32mfor\u001b[0m \u001b[0mi\u001b[0m \u001b[1;32min\u001b[0m \u001b[0mindex_mv_genre_0\u001b[0m \u001b[1;33m:\u001b[0m\u001b[1;33m\u001b[0m\u001b[1;33m\u001b[0m\u001b[0m\n\u001b[0;32m      4\u001b[0m     \u001b[0mdf_desc\u001b[0m \u001b[1;33m=\u001b[0m \u001b[0mdf\u001b[0m\u001b[1;33m[\u001b[0m\u001b[1;34m\"description\"\u001b[0m\u001b[1;33m]\u001b[0m\u001b[1;33m.\u001b[0m\u001b[0miloc\u001b[0m\u001b[1;33m[\u001b[0m\u001b[0mi\u001b[0m\u001b[1;33m]\u001b[0m\u001b[1;33m\u001b[0m\u001b[1;33m\u001b[0m\u001b[0m\n\u001b[1;32m----> 5\u001b[1;33m     \u001b[0mdf_desc\u001b[0m \u001b[1;33m=\u001b[0m \u001b[0mclean_text\u001b[0m\u001b[1;33m(\u001b[0m\u001b[0mdf_desc\u001b[0m\u001b[1;33m)\u001b[0m\u001b[1;33m.\u001b[0m\u001b[0mvalues\u001b[0m\u001b[1;33m\u001b[0m\u001b[1;33m\u001b[0m\u001b[0m\n\u001b[0m\u001b[0;32m      6\u001b[0m     \u001b[0mdf_desc\u001b[0m \u001b[1;33m=\u001b[0m \u001b[0mtokenizer\u001b[0m\u001b[1;33m.\u001b[0m\u001b[0mtexts_to_sequences\u001b[0m\u001b[1;33m(\u001b[0m\u001b[0mdf_desc\u001b[0m\u001b[1;33m)\u001b[0m\u001b[1;33m\u001b[0m\u001b[1;33m\u001b[0m\u001b[0m\n\u001b[0;32m      7\u001b[0m     \u001b[0mdf\u001b[0m\u001b[1;33m[\u001b[0m\u001b[1;34m'genre_0'\u001b[0m\u001b[1;33m]\u001b[0m\u001b[1;33m.\u001b[0m\u001b[0miloc\u001b[0m\u001b[1;33m[\u001b[0m\u001b[0mi\u001b[0m\u001b[1;33m]\u001b[0m \u001b[1;33m=\u001b[0m \u001b[0mmodel1\u001b[0m\u001b[1;33m.\u001b[0m\u001b[0mpredict\u001b[0m\u001b[1;33m(\u001b[0m\u001b[0mdf_desc\u001b[0m\u001b[1;33m)\u001b[0m\u001b[1;33m\u001b[0m\u001b[1;33m\u001b[0m\u001b[0m\n",
            "\u001b[1;31mAttributeError\u001b[0m: 'str' object has no attribute 'values'"
          ]
        }
      ]
    },
    {
      "cell_type": "code",
      "metadata": {
        "id": "pvJk5BQ6x0Rk"
      },
      "source": [
        "#Check missing value pada genre\n",
        "df.isnull().sum()"
      ],
      "execution_count": null,
      "outputs": []
    },
    {
      "cell_type": "code",
      "metadata": {
        "id": "o_NT3QePx0Rl"
      },
      "source": [
        "#Export file pada google collab\n",
        "from google.colab import files\n",
        "df.to_csv('Data Preproc_1.csv')\n",
        "files.download('Data Preproc_1.csv')"
      ],
      "execution_count": null,
      "outputs": []
    },
    {
      "cell_type": "markdown",
      "metadata": {
        "id": "ChXIckN-x0Rl"
      },
      "source": [
        "Model untuk prediksi Bookformat"
      ]
    },
    {
      "cell_type": "code",
      "metadata": {
        "id": "Byu0mzm6x0Rl"
      },
      "source": [
        "#Data diambil dari google collab karena di google collab dapat dirun menggunakan GPU"
      ],
      "execution_count": null,
      "outputs": []
    },
    {
      "cell_type": "code",
      "metadata": {
        "id": "EcR1pkk7x0Rl"
      },
      "source": [
        "df = pd.read_csv('Data Preproc_1.csv')"
      ],
      "execution_count": null,
      "outputs": []
    },
    {
      "cell_type": "code",
      "metadata": {
        "scrolled": true,
        "id": "kQvP9wHGx0Rm",
        "outputId": "8816c173-d94e-4a8b-b9e5-2118949e07f1"
      },
      "source": [
        "df['bookformat']"
      ],
      "execution_count": null,
      "outputs": [
        {
          "data": {
            "text/plain": [
              "0            Hardcover\n",
              "1            Paperback\n",
              "2            Hardcover\n",
              "3            Hardcover\n",
              "4            Hardcover\n",
              "             ...      \n",
              "3507         Paperback\n",
              "3508         Hardcover\n",
              "3509         Hardcover\n",
              "3510    Kindle Edition\n",
              "3511         Hardcover\n",
              "Name: bookformat, Length: 3512, dtype: object"
            ]
          },
          "execution_count": 795,
          "metadata": {},
          "output_type": "execute_result"
        }
      ]
    },
    {
      "cell_type": "code",
      "metadata": {
        "id": "jO2i-xkZx0Rm"
      },
      "source": [
        "def clean_bf(text):\n",
        "    text = text.lower() \n",
        "    text = text.replace(\" \",\"\")\n",
        "    text = text.replace(\"  \",\"\")\n",
        "    return text"
      ],
      "execution_count": null,
      "outputs": []
    },
    {
      "cell_type": "code",
      "metadata": {
        "scrolled": true,
        "id": "mfdna6RSx0Rn",
        "outputId": "f8791201-364f-4963-8358-5f0b8045b9f5"
      },
      "source": [
        "for i in range(0,df.shape[0]) :\n",
        "    try :\n",
        "        df['bookformat'][i] = clean_bf(df['bookformat'][i])\n",
        "    except Exception:\n",
        "        pass"
      ],
      "execution_count": null,
      "outputs": [
        {
          "name": "stderr",
          "output_type": "stream",
          "text": [
            "<ipython-input-797-4529cf4bef2c>:3: SettingWithCopyWarning: \n",
            "A value is trying to be set on a copy of a slice from a DataFrame\n",
            "\n",
            "See the caveats in the documentation: https://pandas.pydata.org/pandas-docs/stable/user_guide/indexing.html#returning-a-view-versus-a-copy\n",
            "  df['bookformat'][i] = clean_bf(df['bookformat'][i])\n"
          ]
        }
      ]
    },
    {
      "cell_type": "code",
      "metadata": {
        "id": "oK8lLUhnx0Rn",
        "outputId": "a0817e7c-fa73-439f-91ab-d26aa6d149bd"
      },
      "source": [
        "df['bookformat']"
      ],
      "execution_count": null,
      "outputs": [
        {
          "data": {
            "text/plain": [
              "0           hardcover\n",
              "1           paperback\n",
              "2           hardcover\n",
              "3           hardcover\n",
              "4           hardcover\n",
              "            ...      \n",
              "3507        paperback\n",
              "3508        hardcover\n",
              "3509        hardcover\n",
              "3510    kindleedition\n",
              "3511        hardcover\n",
              "Name: bookformat, Length: 3512, dtype: object"
            ]
          },
          "execution_count": 798,
          "metadata": {},
          "output_type": "execute_result"
        }
      ]
    },
    {
      "cell_type": "code",
      "metadata": {
        "scrolled": false,
        "id": "H64QwXrfx0Rn",
        "outputId": "271834ed-2ef0-4b23-e0f7-0d920d4567e8"
      },
      "source": [
        "df.iloc[:,range(9,28)].columns"
      ],
      "execution_count": null,
      "outputs": [
        {
          "data": {
            "text/plain": [
              "Index(['genre_1', 'genre_2', 'genre_3', 'genre_4', 'genre_5', 'genre_6',\n",
              "       'genre_7', 'genre_8', 'genre_9', 'genre_0_weight', 'genre_1_weight',\n",
              "       'genre_2_weight', 'genre_3_weight', 'genre_4_weight', 'genre_5_weight',\n",
              "       'genre_6_weight', 'genre_7_weight', 'genre_8_weight', 'genre_9_weight'],\n",
              "      dtype='object')"
            ]
          },
          "execution_count": 799,
          "metadata": {},
          "output_type": "execute_result"
        }
      ]
    },
    {
      "cell_type": "code",
      "metadata": {
        "id": "DYkJFfB8x0Ro"
      },
      "source": [
        "dropped_col = df.iloc[:,range(9,28)].columns"
      ],
      "execution_count": null,
      "outputs": []
    },
    {
      "cell_type": "code",
      "metadata": {
        "scrolled": true,
        "id": "wKLJFJ8Mx0Ro"
      },
      "source": [
        "df = df.drop(dropped_col, axis=1)"
      ],
      "execution_count": null,
      "outputs": []
    },
    {
      "cell_type": "code",
      "metadata": {
        "id": "2_YDeuOBx0Ro"
      },
      "source": [
        "df = df.drop(['Unnamed: 0','Unnamed: 0.1'],axis=1)"
      ],
      "execution_count": null,
      "outputs": []
    },
    {
      "cell_type": "code",
      "metadata": {
        "scrolled": false,
        "id": "aT57BSE4x0Rp",
        "outputId": "ae9e82e4-c87f-4c8c-8f7f-738a8de298b1"
      },
      "source": [
        "df.isnull().sum()"
      ],
      "execution_count": null,
      "outputs": [
        {
          "data": {
            "text/plain": [
              "author_id            0\n",
              "description          0\n",
              "bookformat           3\n",
              "pages               71\n",
              "rating_value_0       0\n",
              "rating_count_0       0\n",
              "genre_0              0\n",
              "price             2979\n",
              "total_weight         0\n",
              "dtype: int64"
            ]
          },
          "execution_count": 803,
          "metadata": {},
          "output_type": "execute_result"
        }
      ]
    },
    {
      "cell_type": "markdown",
      "metadata": {
        "id": "qonlBwTDx0Rp"
      },
      "source": [
        "Impute Missing value pada Book Format"
      ]
    },
    {
      "cell_type": "code",
      "metadata": {
        "id": "F3XJFI08x0Rp"
      },
      "source": [
        "df_bf = df[df.bookformat.notnull()]"
      ],
      "execution_count": null,
      "outputs": []
    },
    {
      "cell_type": "code",
      "metadata": {
        "id": "SpJvKemux0Rq",
        "outputId": "ffe69e25-325c-4d32-db78-0d0074442072"
      },
      "source": [
        "df[df[\"bookformat\"].isnull()]"
      ],
      "execution_count": null,
      "outputs": [
        {
          "data": {
            "text/html": [
              "<div>\n",
              "<style scoped>\n",
              "    .dataframe tbody tr th:only-of-type {\n",
              "        vertical-align: middle;\n",
              "    }\n",
              "\n",
              "    .dataframe tbody tr th {\n",
              "        vertical-align: top;\n",
              "    }\n",
              "\n",
              "    .dataframe thead th {\n",
              "        text-align: right;\n",
              "    }\n",
              "</style>\n",
              "<table border=\"1\" class=\"dataframe\">\n",
              "  <thead>\n",
              "    <tr style=\"text-align: right;\">\n",
              "      <th></th>\n",
              "      <th>author_id</th>\n",
              "      <th>description</th>\n",
              "      <th>bookformat</th>\n",
              "      <th>pages</th>\n",
              "      <th>rating_value_0</th>\n",
              "      <th>rating_count_0</th>\n",
              "      <th>genre_0</th>\n",
              "      <th>price</th>\n",
              "      <th>total_weight</th>\n",
              "    </tr>\n",
              "  </thead>\n",
              "  <tbody>\n",
              "    <tr>\n",
              "      <th>661</th>\n",
              "      <td>author1532</td>\n",
              "      <td>True love can blossom in unexpected places. Th...</td>\n",
              "      <td>NaN</td>\n",
              "      <td>225.0</td>\n",
              "      <td>3.91</td>\n",
              "      <td>18752</td>\n",
              "      <td>Young Adult</td>\n",
              "      <td>NaN</td>\n",
              "      <td>1.0</td>\n",
              "    </tr>\n",
              "    <tr>\n",
              "      <th>2054</th>\n",
              "      <td>author1289</td>\n",
              "      <td>Olivia has sworn off men for good this time. H...</td>\n",
              "      <td>NaN</td>\n",
              "      <td>NaN</td>\n",
              "      <td>5.00</td>\n",
              "      <td>4</td>\n",
              "      <td>Poetry</td>\n",
              "      <td>NaN</td>\n",
              "      <td>0.0</td>\n",
              "    </tr>\n",
              "    <tr>\n",
              "      <th>3066</th>\n",
              "      <td>author0379</td>\n",
              "      <td>Bestselling authors Brittainy C. Cherry and Ka...</td>\n",
              "      <td>NaN</td>\n",
              "      <td>102.0</td>\n",
              "      <td>4.03</td>\n",
              "      <td>1353</td>\n",
              "      <td>Poetry</td>\n",
              "      <td>NaN</td>\n",
              "      <td>1.0</td>\n",
              "    </tr>\n",
              "  </tbody>\n",
              "</table>\n",
              "</div>"
            ],
            "text/plain": [
              "       author_id                                        description  \\\n",
              "661   author1532  True love can blossom in unexpected places. Th...   \n",
              "2054  author1289  Olivia has sworn off men for good this time. H...   \n",
              "3066  author0379  Bestselling authors Brittainy C. Cherry and Ka...   \n",
              "\n",
              "     bookformat  pages  rating_value_0  rating_count_0      genre_0  price  \\\n",
              "661         NaN  225.0            3.91           18752  Young Adult    NaN   \n",
              "2054        NaN    NaN            5.00               4       Poetry    NaN   \n",
              "3066        NaN  102.0            4.03            1353       Poetry    NaN   \n",
              "\n",
              "      total_weight  \n",
              "661            1.0  \n",
              "2054           0.0  \n",
              "3066           1.0  "
            ]
          },
          "execution_count": 648,
          "metadata": {},
          "output_type": "execute_result"
        }
      ]
    },
    {
      "cell_type": "code",
      "metadata": {
        "scrolled": true,
        "id": "m04XIuwRx0Rq"
      },
      "source": [
        "df_bf = df_bf[['author_id','genre_0','bookformat']]"
      ],
      "execution_count": null,
      "outputs": []
    },
    {
      "cell_type": "code",
      "metadata": {
        "id": "0HgbGrTsx0Rr"
      },
      "source": [
        "df_bf = df_bf.sample(frac=1, random_state=123)"
      ],
      "execution_count": null,
      "outputs": []
    },
    {
      "cell_type": "code",
      "metadata": {
        "id": "f-bb_S8Ex0Rr"
      },
      "source": [
        "df_bf = df_bf.dropna()"
      ],
      "execution_count": null,
      "outputs": []
    },
    {
      "cell_type": "code",
      "metadata": {
        "scrolled": true,
        "id": "QoewstCDx0Rr",
        "outputId": "cba27eb1-4c04-4a43-db8b-98a0fa13ae36"
      },
      "source": [
        "df_bf.shape"
      ],
      "execution_count": null,
      "outputs": [
        {
          "data": {
            "text/plain": [
              "(3509, 3)"
            ]
          },
          "execution_count": 652,
          "metadata": {},
          "output_type": "execute_result"
        }
      ]
    },
    {
      "cell_type": "code",
      "metadata": {
        "id": "fdlb1z7Ox0Rs"
      },
      "source": [
        "bf_x = df_bf[['author_id','genre_0']]\n",
        "bf_y = df_bf['bookformat']"
      ],
      "execution_count": null,
      "outputs": []
    },
    {
      "cell_type": "code",
      "metadata": {
        "id": "sYy-Qgu6x0Rs"
      },
      "source": [
        "bf_genre_0 = len(df_bf.genre_0.unique())\n",
        "\n",
        "bf_author = len(df_bf.author_id.unique())\n",
        "\n",
        "bf_bookformat = len(pd.unique(bf_y))"
      ],
      "execution_count": null,
      "outputs": []
    },
    {
      "cell_type": "code",
      "metadata": {
        "scrolled": true,
        "id": "ASWyolOlx0Rs",
        "outputId": "9b05867b-eb28-4e28-aa27-2e63a370044d"
      },
      "source": [
        "rt = []\n",
        "for i in range(1,500) :\n",
        "    X_train, X_test, y_train, y_test = train_test_split(bf_x ,bf_y, test_size = 0.001, random_state = i)\n",
        "    size1 = len(X_train.genre_0.unique())\n",
        "    size2 = len(X_train.author_id.unique())\n",
        "    size3 = len(pd.unique(y_train))\n",
        "    if size1 == bf_genre_0 :\n",
        "        if size2 == bf_author :\n",
        "            if size3 == bf_bookformat :\n",
        "                print(size1,size2,size3,'random_state : ',i)\n",
        "                rt.append(i)"
      ],
      "execution_count": null,
      "outputs": [
        {
          "name": "stdout",
          "output_type": "stream",
          "text": [
            "80 2387 12 random_state :  11\n",
            "80 2387 12 random_state :  34\n",
            "80 2387 12 random_state :  45\n",
            "80 2387 12 random_state :  79\n",
            "80 2387 12 random_state :  100\n",
            "80 2387 12 random_state :  109\n",
            "80 2387 12 random_state :  156\n",
            "80 2387 12 random_state :  196\n",
            "80 2387 12 random_state :  249\n",
            "80 2387 12 random_state :  331\n",
            "80 2387 12 random_state :  354\n",
            "80 2387 12 random_state :  389\n",
            "80 2387 12 random_state :  392\n",
            "80 2387 12 random_state :  437\n",
            "80 2387 12 random_state :  479\n",
            "80 2387 12 random_state :  484\n",
            "80 2387 12 random_state :  493\n"
          ]
        }
      ]
    },
    {
      "cell_type": "code",
      "metadata": {
        "id": "G3kYxfv7x0Rt"
      },
      "source": [
        "X_train, X_test, y_train, y_test = train_test_split(bf_x ,bf_y, test_size = 0.001, random_state = rt[0])"
      ],
      "execution_count": null,
      "outputs": []
    },
    {
      "cell_type": "code",
      "metadata": {
        "id": "jarIU5T6x0Rt"
      },
      "source": [
        "X_train = X_train.values\n",
        "y_train = y_train.values\n",
        "X_test = X_test.values\n",
        "y_test = y_test.values"
      ],
      "execution_count": null,
      "outputs": []
    },
    {
      "cell_type": "code",
      "metadata": {
        "scrolled": true,
        "id": "wk_-TtjPx0Rt",
        "outputId": "0efac2e9-293b-4f18-a9bd-2b7078ce6df0"
      },
      "source": [
        "X_train"
      ],
      "execution_count": null,
      "outputs": [
        {
          "data": {
            "text/plain": [
              "array([['author0312', 'Nonfiction'],\n",
              "       ['author2219', 'Nonfiction'],\n",
              "       ['author0543', 'Fantasy'],\n",
              "       ...,\n",
              "       ['author1018', 'Memoir'],\n",
              "       ['author1051', 'Fantasy'],\n",
              "       ['author0169', 'Cookbooks']], dtype=object)"
            ]
          },
          "execution_count": 658,
          "metadata": {},
          "output_type": "execute_result"
        }
      ]
    },
    {
      "cell_type": "code",
      "metadata": {
        "id": "k6dW4xSRx0Ru"
      },
      "source": [
        "y_train = y_train.reshape(-1, 1)\n",
        "y_test = y_test.reshape(-1, 1)"
      ],
      "execution_count": null,
      "outputs": []
    },
    {
      "cell_type": "code",
      "metadata": {
        "id": "oLJiTv2Zx0Ru"
      },
      "source": [
        "encode_bf = OneHotEncoder()\n",
        "y_train = encode_bf.fit_transform(y_train)\n",
        "y_test = encode_bf.transform(y_test)"
      ],
      "execution_count": null,
      "outputs": []
    },
    {
      "cell_type": "code",
      "metadata": {
        "scrolled": true,
        "id": "I3OfEkVgx0Ru"
      },
      "source": [
        "encode_auth_genre = OneHotEncoder()\n",
        "X_train = encode_auth_genre.fit_transform(X_train)\n",
        "X_test = encode_auth_genre.transform(X_test)"
      ],
      "execution_count": null,
      "outputs": []
    },
    {
      "cell_type": "code",
      "metadata": {
        "id": "XP7sZ_bcx0Rv",
        "outputId": "9d091d51-90f3-44ba-e0a7-5a634f316df3"
      },
      "source": [
        "from imblearn.over_sampling import RandomOverSampler\n",
        "ros = RandomOverSampler(random_state=42)\n",
        "X_train, y_train = ros.fit_resample(X_train, y_train)"
      ],
      "execution_count": null,
      "outputs": [
        {
          "name": "stderr",
          "output_type": "stream",
          "text": [
            "C:\\Users\\Vav\\anaconda3\\lib\\site-packages\\sklearn\\utils\\validation.py:72: DataConversionWarning: A column-vector y was passed when a 1d array was expected. Please change the shape of y to (n_samples, ), for example using ravel().\n",
            "  return f(**kwargs)\n",
            "C:\\Users\\Vav\\anaconda3\\lib\\site-packages\\sklearn\\utils\\validation.py:67: FutureWarning: Pass classes=[ 0  1  2  3  4  5  6  7  8  9 10 11] as keyword args. From version 0.25 passing these as positional arguments will result in an error\n",
            "  warnings.warn(\"Pass {} as keyword args. From version 0.25 \"\n"
          ]
        }
      ]
    },
    {
      "cell_type": "code",
      "metadata": {
        "scrolled": true,
        "id": "hOfk_4LTx0Rv",
        "outputId": "0c72f0c0-1b38-4789-ed15-46bce118742a"
      },
      "source": [
        "print(X_train.shape)\n",
        "print(y_train.shape)\n",
        "print(X_test.shape)\n",
        "print(y_test.shape)\n",
        "print(type(X_train))\n",
        "print(type(y_train))\n",
        "print(type(X_test))\n",
        "print(type(y_test))"
      ],
      "execution_count": null,
      "outputs": [
        {
          "name": "stdout",
          "output_type": "stream",
          "text": [
            "(30180, 2467)\n",
            "(30180, 12)\n",
            "(4, 2467)\n",
            "(4, 12)\n",
            "<class 'scipy.sparse.csr.csr_matrix'>\n",
            "<class 'numpy.ndarray'>\n",
            "<class 'scipy.sparse.csr.csr_matrix'>\n",
            "<class 'scipy.sparse.csr.csr_matrix'>\n"
          ]
        }
      ]
    },
    {
      "cell_type": "code",
      "metadata": {
        "id": "crorYWMTx0Rw"
      },
      "source": [
        "X_train = X_train.toarray()\n",
        "X_test = X_test.toarray()\n",
        "y_test =  y_test.toarray()"
      ],
      "execution_count": null,
      "outputs": []
    },
    {
      "cell_type": "code",
      "metadata": {
        "id": "rI_8iKkCx0Rw",
        "outputId": "2ff1a166-b198-452f-da57-16d5dc98b61f"
      },
      "source": [
        "X_train.shape[1]"
      ],
      "execution_count": null,
      "outputs": [
        {
          "data": {
            "text/plain": [
              "2467"
            ]
          },
          "execution_count": 665,
          "metadata": {},
          "output_type": "execute_result"
        }
      ]
    },
    {
      "cell_type": "code",
      "metadata": {
        "id": "nGkdeOuBx0Rw",
        "outputId": "8cb311b9-8922-40c5-fc11-7dbdb5ae0497"
      },
      "source": [
        "model_bf = tf.keras.Sequential([\n",
        "    tf.keras.layers.Dense(units = 12, input_shape=[X_train.shape[1]]),\n",
        "    tf.keras.layers.Dense(32, activation = 'relu'),\n",
        "    tf.keras.layers.Dropout(0.5),\n",
        "    tf.keras.layers.Dense(12, activation = 'softmax')\n",
        "])\n",
        "model_bf.summary()"
      ],
      "execution_count": null,
      "outputs": [
        {
          "name": "stdout",
          "output_type": "stream",
          "text": [
            "Model: \"sequential_18\"\n",
            "_________________________________________________________________\n",
            "Layer (type)                 Output Shape              Param #   \n",
            "=================================================================\n",
            "dense_57 (Dense)             (None, 12)                29616     \n",
            "_________________________________________________________________\n",
            "dense_58 (Dense)             (None, 32)                416       \n",
            "_________________________________________________________________\n",
            "dropout_22 (Dropout)         (None, 32)                0         \n",
            "_________________________________________________________________\n",
            "dense_59 (Dense)             (None, 12)                396       \n",
            "=================================================================\n",
            "Total params: 30,428\n",
            "Trainable params: 30,428\n",
            "Non-trainable params: 0\n",
            "_________________________________________________________________\n"
          ]
        }
      ]
    },
    {
      "cell_type": "code",
      "metadata": {
        "scrolled": true,
        "id": "NlGyjOldx0Rx",
        "outputId": "b2ceef6e-5d65-4a03-fa8b-32da7975f338"
      },
      "source": [
        "model_bf.compile(loss='categorical_crossentropy', optimizer='adam', metrics=['accuracy'])\n",
        "epochs = 10\n",
        "\n",
        "history = model_bf.fit(X_train, y_train, shuffle=True ,\n",
        "                    epochs=epochs, validation_split=0.05)"
      ],
      "execution_count": null,
      "outputs": [
        {
          "name": "stdout",
          "output_type": "stream",
          "text": [
            "Epoch 1/10\n",
            "896/896 [==============================] - 6s 4ms/step - loss: 1.0038 - accuracy: 0.6932 - val_loss: 0.0475 - val_accuracy: 1.0000\n",
            "Epoch 2/10\n",
            "896/896 [==============================] - 3s 4ms/step - loss: 0.3129 - accuracy: 0.8978 - val_loss: 0.0024 - val_accuracy: 1.0000\n",
            "Epoch 3/10\n",
            "896/896 [==============================] - 4s 4ms/step - loss: 0.1815 - accuracy: 0.9482 - val_loss: 2.2016e-04 - val_accuracy: 1.0000\n",
            "Epoch 4/10\n",
            "896/896 [==============================] - 4s 4ms/step - loss: 0.1355 - accuracy: 0.9613 - val_loss: 4.1722e-05 - val_accuracy: 1.0000\n",
            "Epoch 5/10\n",
            "896/896 [==============================] - 3s 3ms/step - loss: 0.1179 - accuracy: 0.9649 - val_loss: 1.1921e-05 - val_accuracy: 1.0000\n",
            "Epoch 6/10\n",
            "896/896 [==============================] - 3s 3ms/step - loss: 0.1060 - accuracy: 0.9679 - val_loss: 5.6028e-06 - val_accuracy: 1.0000\n",
            "Epoch 7/10\n",
            "896/896 [==============================] - 3s 4ms/step - loss: 0.1008 - accuracy: 0.9690 - val_loss: 2.9802e-06 - val_accuracy: 1.0000\n",
            "Epoch 8/10\n",
            "896/896 [==============================] - 3s 3ms/step - loss: 0.0940 - accuracy: 0.9707 - val_loss: 8.3446e-07 - val_accuracy: 1.0000\n",
            "Epoch 9/10\n",
            "896/896 [==============================] - 3s 3ms/step - loss: 0.0907 - accuracy: 0.9713 - val_loss: 4.7684e-07 - val_accuracy: 1.0000\n",
            "Epoch 10/10\n",
            "896/896 [==============================] - 3s 3ms/step - loss: 0.0893 - accuracy: 0.9716 - val_loss: 2.3842e-07 - val_accuracy: 1.0000\n"
          ]
        }
      ]
    },
    {
      "cell_type": "code",
      "metadata": {
        "id": "yDcBnyxHx0Rx"
      },
      "source": [
        "model_bf.save(\"my_model_bf1\",save_format=\"h5\")"
      ],
      "execution_count": null,
      "outputs": []
    },
    {
      "cell_type": "code",
      "metadata": {
        "id": "DMtcR4DIx0Rx",
        "outputId": "efc2a3eb-fed5-4cfd-fbd3-cb50e521e258"
      },
      "source": [
        "def plot_graphs(history, string, model):\n",
        "  plt.plot(history.history[string])\n",
        "  plt.plot(history.history['val_'+string])\n",
        "  plt.xlabel(\"Epochs\")\n",
        "  plt.ylabel(string)\n",
        "  plt.title(model)\n",
        "  plt.legend([string, 'val_'+string])\n",
        "  plt.show()\n",
        "  \n",
        "plot_graphs(history, \"accuracy\", 'BookFormat')\n",
        "plot_graphs(history, \"loss\", 'BookFormat')"
      ],
      "execution_count": null,
      "outputs": [
        {
          "data": {
            "image/png": "[encoded data removed]",
            "text/plain": [
              "<Figure size 432x288 with 1 Axes>"
            ]
          },
          "metadata": {
            "needs_background": "light"
          },
          "output_type": "display_data"
        },
        {
          "data": {
            "image/png": "[encoded data removed]",
            "text/plain": [
              "<Figure size 432x288 with 1 Axes>"
            ]
          },
          "metadata": {
            "needs_background": "light"
          },
          "output_type": "display_data"
        }
      ]
    },
    {
      "cell_type": "code",
      "metadata": {
        "id": "pYjkBCGvx0Ry",
        "outputId": "b2418cab-7a02-4567-a7a0-1f9b3c2f71cb"
      },
      "source": [
        "plot_model(model_bf, show_shapes=True, show_layer_names=True, expand_nested=True)"
      ],
      "execution_count": null,
      "outputs": [
        {
          "name": "stdout",
          "output_type": "stream",
          "text": [
            "('You must install pydot (`pip install pydot`) and install graphviz (see instructions at https://graphviz.gitlab.io/download/) ', 'for plot_model/model_to_dot to work.')\n"
          ]
        }
      ]
    },
    {
      "cell_type": "code",
      "metadata": {
        "id": "QYya7oMZx0Ry"
      },
      "source": [
        "index_mv_bookformat = df[df['bookformat'].isnull()].index.tolist()"
      ],
      "execution_count": null,
      "outputs": []
    },
    {
      "cell_type": "code",
      "metadata": {
        "id": "maK2DcTbx0Rz",
        "outputId": "38f3eb44-aaff-4f84-89f9-6917206ab868"
      },
      "source": [
        "index_mv_bookformat"
      ],
      "execution_count": null,
      "outputs": [
        {
          "data": {
            "text/plain": [
              "[661, 2054, 3066]"
            ]
          },
          "execution_count": 805,
          "metadata": {},
          "output_type": "execute_result"
        }
      ]
    },
    {
      "cell_type": "code",
      "metadata": {
        "id": "y1sddO9Kx0Rz",
        "outputId": "34eddd20-9a2c-41f8-8a52-ff4acfacd6f8"
      },
      "source": [
        "for i in index_mv_bookformat :\n",
        "    try :\n",
        "        auth_genre = df[['author_id','genre_0']].iloc[i]\n",
        "        auth_genre = auth_genre.values.reshape(1,-1)\n",
        "        auth_genre = encode_auth_genre.transform(auth_genre)\n",
        "        auth_genre = auth_genre.toarray()\n",
        "        result_bf = model_bf.predict(auth_genre)\n",
        "        pred = encode_bf.inverse_transform(result_bf)\n",
        "        df['bookformat'].iloc[i] = str(pred.tolist()[0][0])\n",
        "    except Exception:\n",
        "        pass"
      ],
      "execution_count": null,
      "outputs": [
        {
          "name": "stderr",
          "output_type": "stream",
          "text": [
            "C:\\Users\\Vav\\anaconda3\\lib\\site-packages\\pandas\\core\\indexing.py:670: SettingWithCopyWarning: \n",
            "A value is trying to be set on a copy of a slice from a DataFrame\n",
            "\n",
            "See the caveats in the documentation: https://pandas.pydata.org/pandas-docs/stable/user_guide/indexing.html#returning-a-view-versus-a-copy\n",
            "  iloc._setitem_with_indexer(indexer, value)\n"
          ]
        }
      ]
    },
    {
      "cell_type": "markdown",
      "metadata": {
        "id": "PGpKZ4AYx0R1"
      },
      "source": [
        "=============================================================="
      ]
    },
    {
      "cell_type": "code",
      "metadata": {
        "id": "O0fJtofWx0R1"
      },
      "source": [
        "df[['bookformat']] = df[['bookformat']].fillna(value='None')"
      ],
      "execution_count": null,
      "outputs": []
    },
    {
      "cell_type": "code",
      "metadata": {
        "id": "G-TioCPJx0R1",
        "outputId": "4bbf14f9-12c2-49e6-985b-23ed2694fd83"
      },
      "source": [
        "df.isnull().sum()"
      ],
      "execution_count": null,
      "outputs": [
        {
          "data": {
            "text/plain": [
              "author_id            0\n",
              "description          0\n",
              "bookformat           0\n",
              "pages               71\n",
              "rating_value_0       0\n",
              "rating_count_0       0\n",
              "genre_0              0\n",
              "price             2979\n",
              "total_weight         0\n",
              "dtype: int64"
            ]
          },
          "execution_count": 808,
          "metadata": {},
          "output_type": "execute_result"
        }
      ]
    },
    {
      "cell_type": "code",
      "metadata": {
        "scrolled": false,
        "id": "TAZcPt0Gx0R2",
        "outputId": "11f8a988-e47e-426f-ac14-3a0e0c4ced1f"
      },
      "source": [
        "df.head()"
      ],
      "execution_count": null,
      "outputs": [
        {
          "data": {
            "text/html": [
              "<div>\n",
              "<style scoped>\n",
              "    .dataframe tbody tr th:only-of-type {\n",
              "        vertical-align: middle;\n",
              "    }\n",
              "\n",
              "    .dataframe tbody tr th {\n",
              "        vertical-align: top;\n",
              "    }\n",
              "\n",
              "    .dataframe thead th {\n",
              "        text-align: right;\n",
              "    }\n",
              "</style>\n",
              "<table border=\"1\" class=\"dataframe\">\n",
              "  <thead>\n",
              "    <tr style=\"text-align: right;\">\n",
              "      <th></th>\n",
              "      <th>author_id</th>\n",
              "      <th>description</th>\n",
              "      <th>bookformat</th>\n",
              "      <th>pages</th>\n",
              "      <th>rating_value_0</th>\n",
              "      <th>rating_count_0</th>\n",
              "      <th>genre_0</th>\n",
              "      <th>price</th>\n",
              "      <th>total_weight</th>\n",
              "    </tr>\n",
              "  </thead>\n",
              "  <tbody>\n",
              "    <tr>\n",
              "      <th>0</th>\n",
              "      <td>author2106</td>\n",
              "      <td>Just after the Second World War, in the small ...</td>\n",
              "      <td>hardcover</td>\n",
              "      <td>309.0</td>\n",
              "      <td>3.76</td>\n",
              "      <td>26625</td>\n",
              "      <td>Historical Fiction</td>\n",
              "      <td>NaN</td>\n",
              "      <td>1.0</td>\n",
              "    </tr>\n",
              "    <tr>\n",
              "      <th>1</th>\n",
              "      <td>author1018</td>\n",
              "      <td>Blame it on Hawaii’s rainbows, sparkling beach...</td>\n",
              "      <td>paperback</td>\n",
              "      <td>NaN</td>\n",
              "      <td>4.48</td>\n",
              "      <td>21</td>\n",
              "      <td>Memoir</td>\n",
              "      <td>NaN</td>\n",
              "      <td>1.0</td>\n",
              "    </tr>\n",
              "    <tr>\n",
              "      <th>2</th>\n",
              "      <td>author1087</td>\n",
              "      <td>The Pulitzer Prize–winning, bestselling author...</td>\n",
              "      <td>hardcover</td>\n",
              "      <td>496.0</td>\n",
              "      <td>4.56</td>\n",
              "      <td>59885</td>\n",
              "      <td>Nonfiction</td>\n",
              "      <td>NaN</td>\n",
              "      <td>1.0</td>\n",
              "    </tr>\n",
              "    <tr>\n",
              "      <th>3</th>\n",
              "      <td>author1295</td>\n",
              "      <td>THINGS ARE ABOUT TO GET SERIOUS FOR HARRY DRES...</td>\n",
              "      <td>hardcover</td>\n",
              "      <td>418.0</td>\n",
              "      <td>4.39</td>\n",
              "      <td>26643</td>\n",
              "      <td>Fantasy</td>\n",
              "      <td>NaN</td>\n",
              "      <td>1.0</td>\n",
              "    </tr>\n",
              "    <tr>\n",
              "      <th>4</th>\n",
              "      <td>author2622</td>\n",
              "      <td>The Romanovs were the most successful dynasty ...</td>\n",
              "      <td>hardcover</td>\n",
              "      <td>784.0</td>\n",
              "      <td>3.93</td>\n",
              "      <td>11772</td>\n",
              "      <td>History</td>\n",
              "      <td>NaN</td>\n",
              "      <td>1.0</td>\n",
              "    </tr>\n",
              "  </tbody>\n",
              "</table>\n",
              "</div>"
            ],
            "text/plain": [
              "    author_id                                        description bookformat  \\\n",
              "0  author2106  Just after the Second World War, in the small ...  hardcover   \n",
              "1  author1018  Blame it on Hawaii’s rainbows, sparkling beach...  paperback   \n",
              "2  author1087  The Pulitzer Prize–winning, bestselling author...  hardcover   \n",
              "3  author1295  THINGS ARE ABOUT TO GET SERIOUS FOR HARRY DRES...  hardcover   \n",
              "4  author2622  The Romanovs were the most successful dynasty ...  hardcover   \n",
              "\n",
              "   pages  rating_value_0  rating_count_0             genre_0  price  \\\n",
              "0  309.0            3.76           26625  Historical Fiction    NaN   \n",
              "1    NaN            4.48              21              Memoir    NaN   \n",
              "2  496.0            4.56           59885          Nonfiction    NaN   \n",
              "3  418.0            4.39           26643             Fantasy    NaN   \n",
              "4  784.0            3.93           11772             History    NaN   \n",
              "\n",
              "   total_weight  \n",
              "0           1.0  \n",
              "1           1.0  \n",
              "2           1.0  \n",
              "3           1.0  \n",
              "4           1.0  "
            ]
          },
          "execution_count": 809,
          "metadata": {},
          "output_type": "execute_result"
        }
      ]
    },
    {
      "cell_type": "code",
      "metadata": {
        "id": "Z9_CUJ18x0R2"
      },
      "source": [
        "df_pages = df[['bookformat','pages']]"
      ],
      "execution_count": null,
      "outputs": []
    },
    {
      "cell_type": "code",
      "metadata": {
        "id": "lEu3hiE3x0R3"
      },
      "source": [
        "df_pages = df_pages.dropna()"
      ],
      "execution_count": null,
      "outputs": []
    },
    {
      "cell_type": "code",
      "metadata": {
        "scrolled": true,
        "id": "9NVPhWhDx0R3",
        "outputId": "e8e2c0a1-1686-4331-aa9b-73afa7049b22"
      },
      "source": [
        "df_pages.head()"
      ],
      "execution_count": null,
      "outputs": [
        {
          "data": {
            "text/html": [
              "<div>\n",
              "<style scoped>\n",
              "    .dataframe tbody tr th:only-of-type {\n",
              "        vertical-align: middle;\n",
              "    }\n",
              "\n",
              "    .dataframe tbody tr th {\n",
              "        vertical-align: top;\n",
              "    }\n",
              "\n",
              "    .dataframe thead th {\n",
              "        text-align: right;\n",
              "    }\n",
              "</style>\n",
              "<table border=\"1\" class=\"dataframe\">\n",
              "  <thead>\n",
              "    <tr style=\"text-align: right;\">\n",
              "      <th></th>\n",
              "      <th>bookformat</th>\n",
              "      <th>pages</th>\n",
              "    </tr>\n",
              "  </thead>\n",
              "  <tbody>\n",
              "    <tr>\n",
              "      <th>0</th>\n",
              "      <td>hardcover</td>\n",
              "      <td>309.0</td>\n",
              "    </tr>\n",
              "    <tr>\n",
              "      <th>2</th>\n",
              "      <td>hardcover</td>\n",
              "      <td>496.0</td>\n",
              "    </tr>\n",
              "    <tr>\n",
              "      <th>3</th>\n",
              "      <td>hardcover</td>\n",
              "      <td>418.0</td>\n",
              "    </tr>\n",
              "    <tr>\n",
              "      <th>4</th>\n",
              "      <td>hardcover</td>\n",
              "      <td>784.0</td>\n",
              "    </tr>\n",
              "    <tr>\n",
              "      <th>5</th>\n",
              "      <td>hardcover</td>\n",
              "      <td>255.0</td>\n",
              "    </tr>\n",
              "  </tbody>\n",
              "</table>\n",
              "</div>"
            ],
            "text/plain": [
              "  bookformat  pages\n",
              "0  hardcover  309.0\n",
              "2  hardcover  496.0\n",
              "3  hardcover  418.0\n",
              "4  hardcover  784.0\n",
              "5  hardcover  255.0"
            ]
          },
          "execution_count": 812,
          "metadata": {},
          "output_type": "execute_result"
        }
      ]
    },
    {
      "cell_type": "code",
      "metadata": {
        "id": "owRf3Ln3x0R3"
      },
      "source": [
        "df_pages = df_pages.groupby('bookformat').mean()"
      ],
      "execution_count": null,
      "outputs": []
    },
    {
      "cell_type": "code",
      "metadata": {
        "scrolled": true,
        "id": "mL9Dtq85x0R3",
        "outputId": "12d61ff3-06e4-42aa-fb22-a7c235dea76f"
      },
      "source": [
        "df_pages"
      ],
      "execution_count": null,
      "outputs": [
        {
          "data": {
            "text/html": [
              "<div>\n",
              "<style scoped>\n",
              "    .dataframe tbody tr th:only-of-type {\n",
              "        vertical-align: middle;\n",
              "    }\n",
              "\n",
              "    .dataframe tbody tr th {\n",
              "        vertical-align: top;\n",
              "    }\n",
              "\n",
              "    .dataframe thead th {\n",
              "        text-align: right;\n",
              "    }\n",
              "</style>\n",
              "<table border=\"1\" class=\"dataframe\">\n",
              "  <thead>\n",
              "    <tr style=\"text-align: right;\">\n",
              "      <th></th>\n",
              "      <th>pages</th>\n",
              "    </tr>\n",
              "    <tr>\n",
              "      <th>bookformat</th>\n",
              "      <th></th>\n",
              "    </tr>\n",
              "  </thead>\n",
              "  <tbody>\n",
              "    <tr>\n",
              "      <th>None</th>\n",
              "      <td>225.000000</td>\n",
              "    </tr>\n",
              "    <tr>\n",
              "      <th>boardbook</th>\n",
              "      <td>26.000000</td>\n",
              "    </tr>\n",
              "    <tr>\n",
              "      <th>comics</th>\n",
              "      <td>136.000000</td>\n",
              "    </tr>\n",
              "    <tr>\n",
              "      <th>ebook</th>\n",
              "      <td>311.214286</td>\n",
              "    </tr>\n",
              "    <tr>\n",
              "      <th>hardcover</th>\n",
              "      <td>345.788156</td>\n",
              "    </tr>\n",
              "    <tr>\n",
              "      <th>kindleedition</th>\n",
              "      <td>319.648649</td>\n",
              "    </tr>\n",
              "    <tr>\n",
              "      <th>librarybinding</th>\n",
              "      <td>659.000000</td>\n",
              "    </tr>\n",
              "    <tr>\n",
              "      <th>massmarketpaperback</th>\n",
              "      <td>379.238095</td>\n",
              "    </tr>\n",
              "    <tr>\n",
              "      <th>nook</th>\n",
              "      <td>270.000000</td>\n",
              "    </tr>\n",
              "    <tr>\n",
              "      <th>paperback</th>\n",
              "      <td>284.355360</td>\n",
              "    </tr>\n",
              "    <tr>\n",
              "      <th>spiral-bound</th>\n",
              "      <td>272.000000</td>\n",
              "    </tr>\n",
              "    <tr>\n",
              "      <th>tradepaperback</th>\n",
              "      <td>352.000000</td>\n",
              "    </tr>\n",
              "    <tr>\n",
              "      <th>unknownbinding</th>\n",
              "      <td>240.000000</td>\n",
              "    </tr>\n",
              "  </tbody>\n",
              "</table>\n",
              "</div>"
            ],
            "text/plain": [
              "                          pages\n",
              "bookformat                     \n",
              "None                 225.000000\n",
              "boardbook             26.000000\n",
              "comics               136.000000\n",
              "ebook                311.214286\n",
              "hardcover            345.788156\n",
              "kindleedition        319.648649\n",
              "librarybinding       659.000000\n",
              "massmarketpaperback  379.238095\n",
              "nook                 270.000000\n",
              "paperback            284.355360\n",
              "spiral-bound         272.000000\n",
              "tradepaperback       352.000000\n",
              "unknownbinding       240.000000"
            ]
          },
          "execution_count": 814,
          "metadata": {},
          "output_type": "execute_result"
        }
      ]
    },
    {
      "cell_type": "code",
      "metadata": {
        "id": "R1iqhq9lx0R4"
      },
      "source": [
        "index_mv_pages = df[df['pages'].isnull()].index.tolist()"
      ],
      "execution_count": null,
      "outputs": []
    },
    {
      "cell_type": "code",
      "metadata": {
        "collapsed": true,
        "id": "IzlPFMGMx0R4",
        "outputId": "f050eb4a-4ef1-42f5-96b7-266b34160cfe"
      },
      "source": [
        "index_mv_pages"
      ],
      "execution_count": null,
      "outputs": [
        {
          "data": {
            "text/plain": [
              "[1,\n",
              " 17,\n",
              " 46,\n",
              " 83,\n",
              " 85,\n",
              " 89,\n",
              " 101,\n",
              " 239,\n",
              " 290,\n",
              " 322,\n",
              " 370,\n",
              " 375,\n",
              " 399,\n",
              " 572,\n",
              " 630,\n",
              " 675,\n",
              " 782,\n",
              " 802,\n",
              " 827,\n",
              " 865,\n",
              " 879,\n",
              " 999,\n",
              " 1029,\n",
              " 1073,\n",
              " 1122,\n",
              " 1128,\n",
              " 1188,\n",
              " 1210,\n",
              " 1233,\n",
              " 1291,\n",
              " 1314,\n",
              " 1332,\n",
              " 1368,\n",
              " 1431,\n",
              " 1513,\n",
              " 1544,\n",
              " 1556,\n",
              " 1629,\n",
              " 1713,\n",
              " 1725,\n",
              " 1835,\n",
              " 1838,\n",
              " 1890,\n",
              " 1949,\n",
              " 2054,\n",
              " 2150,\n",
              " 2158,\n",
              " 2194,\n",
              " 2246,\n",
              " 2291,\n",
              " 2322,\n",
              " 2337,\n",
              " 2354,\n",
              " 2378,\n",
              " 2426,\n",
              " 2476,\n",
              " 2619,\n",
              " 2694,\n",
              " 2826,\n",
              " 2844,\n",
              " 2993,\n",
              " 3186,\n",
              " 3248,\n",
              " 3301,\n",
              " 3312,\n",
              " 3322,\n",
              " 3334,\n",
              " 3357,\n",
              " 3388,\n",
              " 3441,\n",
              " 3510]"
            ]
          },
          "execution_count": 763,
          "metadata": {},
          "output_type": "execute_result"
        }
      ]
    },
    {
      "cell_type": "markdown",
      "metadata": {
        "id": "v7pC_X1Yx0R4"
      },
      "source": [
        "Impute Missing Value"
      ]
    },
    {
      "cell_type": "code",
      "metadata": {
        "id": "rEOBQlIBx0R5"
      },
      "source": [
        "for i in index_mv_pages : \n",
        "    if df['bookformat'][i] == 'None' :\n",
        "        df.loc[i,'pages'] = df_pages.loc['None'][0]\n",
        "    elif df['bookformat'][i] == 'boardbook' :\n",
        "        df.loc[i,'pages'] = df_pages.loc['boardbook'][0]\n",
        "    elif df['bookformat'][i] == 'comics' :\n",
        "        df.loc[i,'pages'] = df_pages.loc['comics'][0]     \n",
        "    elif df['bookformat'][i] == 'hardcover' :\n",
        "        df.loc[i,'pages'] = df_pages.loc['hardcover'][0]    \n",
        "    elif df['bookformat'][i] == 'kindleedition' :\n",
        "        df.loc[i,'pages'] = df_pages.loc['kindleedition'][0]     \n",
        "    elif df['bookformat'][i] == 'librarybinding' :\n",
        "        df.loc[i,'pages'] = df_pages.loc['librarybinding'][0]\n",
        "    elif df['bookformat'][i] == 'massmarketpaperback' :\n",
        "        df.loc[i,'pages'] = df_pages.loc['massmarketpaperback'][0]     \n",
        "    elif df['bookformat'][i] == 'nook' :\n",
        "        df.loc[i,'pages'] = df_pages.loc['nook'][0]      \n",
        "    elif df['bookformat'][i] == 'spiral-boundd' :\n",
        "        df.loc[i,'pages'] = df_pages.loc['spiral-bound'][0]\n",
        "    elif df['bookformat'][i] == 'tradepaperback' :\n",
        "        df.loc[i,'pages'] = df_pages.loc['tradepaperback'][0]     \n",
        "    elif df['bookformat'][i] == 'unknownbinding' :\n",
        "        df.loc[i,'pages'] = df_pages.loc['unknownbinding'][0]\n",
        "    elif df['bookformat'][i] == 'ebook' :\n",
        "        df.loc[i,'pages'] = df_pages.loc['ebook'][0]  \n",
        "    elif df['bookformat'][i] == 'paperback' :\n",
        "        df.loc[i,'pages'] = df_pages.loc['paperback'][0]"
      ],
      "execution_count": null,
      "outputs": []
    },
    {
      "cell_type": "markdown",
      "metadata": {
        "id": "z3HIOidQx0R5"
      },
      "source": [
        "======================================================================="
      ]
    },
    {
      "cell_type": "code",
      "metadata": {
        "scrolled": true,
        "id": "Fpf4mT3tx0R6",
        "outputId": "bfcf873e-e016-4cd5-8afa-c3c6720fe574"
      },
      "source": [
        "df.isnull().sum()"
      ],
      "execution_count": null,
      "outputs": [
        {
          "data": {
            "text/plain": [
              "author_id            0\n",
              "description          0\n",
              "bookformat           0\n",
              "pages                0\n",
              "rating_value_0       0\n",
              "rating_count_0       0\n",
              "genre_0              0\n",
              "price             2979\n",
              "total_weight         0\n",
              "dtype: int64"
            ]
          },
          "execution_count": 817,
          "metadata": {},
          "output_type": "execute_result"
        }
      ]
    },
    {
      "cell_type": "code",
      "metadata": {
        "id": "YvdZ47mFx0R6"
      },
      "source": [
        "df.to_csv('data_full.csv')"
      ],
      "execution_count": null,
      "outputs": []
    },
    {
      "cell_type": "markdown",
      "metadata": {
        "id": "t2uZuTuKx0R6"
      },
      "source": [
        "Prediksi Price"
      ]
    },
    {
      "cell_type": "code",
      "metadata": {
        "id": "CdBezRwmx0R7"
      },
      "source": [
        "df = df.drop(['description','rating_value_0','rating_count_0','total_weight'],axis=1)"
      ],
      "execution_count": null,
      "outputs": []
    },
    {
      "cell_type": "code",
      "metadata": {
        "id": "FOBY33bRx0R7"
      },
      "source": [
        "df = df.dropna()"
      ],
      "execution_count": null,
      "outputs": []
    },
    {
      "cell_type": "code",
      "metadata": {
        "id": "rGbrzd5ux0R7"
      },
      "source": [
        "df_fin = df.sample(frac=1, random_state=123)\n",
        "df_fin_x = df_fin[['author_id','bookformat','pages','genre_0']]\n",
        "df_fin_y = df_fin['price']\n"
      ],
      "execution_count": null,
      "outputs": []
    },
    {
      "cell_type": "code",
      "metadata": {
        "id": "GaRqElPVx0R8"
      },
      "source": [
        "fin_author = len(df_fin_x.author_id.unique())\n",
        "fin_bf = len(df_fin_x.bookformat.unique())\n",
        "fin_pages = len(df_fin_x.genre_0.unique())"
      ],
      "execution_count": null,
      "outputs": []
    },
    {
      "cell_type": "code",
      "metadata": {
        "scrolled": true,
        "id": "qU_AQ0Bax0R8",
        "outputId": "d6f0b3d8-7503-4655-98eb-4cb576fbac4e"
      },
      "source": [
        "rt = []\n",
        "for i in range(1,100) :\n",
        "    X_train, X_test, y_train, y_test = train_test_split(df_fin_x ,df_fin_y, test_size = 0.001, random_state = i)\n",
        "    size1 = len(X_train.author_id.unique())\n",
        "    size2 = len(X_train.bookformat.unique())\n",
        "    size3 = len(X_train.genre_0.unique())\n",
        "    if size1 == fin_author :\n",
        "        if size2 == fin_bf :\n",
        "            if size3 == fin_pages :\n",
        "                print(size1,size2,size3,'random_state : ',i)\n",
        "                rt.append(i)\n"
      ],
      "execution_count": null,
      "outputs": [
        {
          "name": "stdout",
          "output_type": "stream",
          "text": [
            "478 9 45 random_state :  13\n",
            "478 9 45 random_state :  32\n",
            "478 9 45 random_state :  38\n",
            "478 9 45 random_state :  54\n",
            "478 9 45 random_state :  55\n",
            "478 9 45 random_state :  57\n",
            "478 9 45 random_state :  67\n",
            "478 9 45 random_state :  71\n",
            "478 9 45 random_state :  72\n",
            "478 9 45 random_state :  77\n",
            "478 9 45 random_state :  79\n",
            "478 9 45 random_state :  87\n"
          ]
        }
      ]
    },
    {
      "cell_type": "code",
      "metadata": {
        "id": "aNH3YAB0x0R8"
      },
      "source": [
        "X_train, X_test, y_train, y_test = train_test_split(df_fin_x ,df_fin_y, test_size = 0.001, random_state = rt[0])"
      ],
      "execution_count": null,
      "outputs": []
    },
    {
      "cell_type": "code",
      "metadata": {
        "scrolled": true,
        "id": "cDFG5315x0R_"
      },
      "source": [
        "minmax_y = MinMaxScaler()"
      ],
      "execution_count": null,
      "outputs": []
    },
    {
      "cell_type": "code",
      "metadata": {
        "id": "jxdoNN86x0SA"
      },
      "source": [
        "y_train = minmax_y.fit_transform(y_train.values.reshape(-1,1))\n",
        "y_test = minmax_y.transform(y_test.values.reshape(-1,1))"
      ],
      "execution_count": null,
      "outputs": []
    },
    {
      "cell_type": "code",
      "metadata": {
        "id": "rBM5zzi4x0SB"
      },
      "source": [
        "minmax = MinMaxScaler()"
      ],
      "execution_count": null,
      "outputs": []
    },
    {
      "cell_type": "code",
      "metadata": {
        "id": "JBSv2FNcx0SC"
      },
      "source": [
        "X_train_kontinu = minmax.fit_transform(X_train['pages'].values.reshape(-1,1))\n",
        "X_test_kontinu = minmax.transform(X_test['pages'].values.reshape(-1,1))"
      ],
      "execution_count": null,
      "outputs": []
    },
    {
      "cell_type": "code",
      "metadata": {
        "id": "9waJ35aax0SC"
      },
      "source": [
        "encode_fin_x = OneHotEncoder()"
      ],
      "execution_count": null,
      "outputs": []
    },
    {
      "cell_type": "code",
      "metadata": {
        "id": "m0F6TaB-x0SD"
      },
      "source": [
        "X_train_kategorik = encode_fin_x.fit_transform(X_train[['author_id','bookformat','genre_0']])\n",
        "X_test_kategorik = encode_fin_x.transform(X_train[['author_id','bookformat','genre_0']])"
      ],
      "execution_count": null,
      "outputs": []
    },
    {
      "cell_type": "code",
      "metadata": {
        "id": "Q3uX8L5qx0SE",
        "outputId": "062ee91c-498c-41e6-bbad-2681f0649f28"
      },
      "source": [
        "X_train_kontinu.shape[1]"
      ],
      "execution_count": null,
      "outputs": [
        {
          "data": {
            "text/plain": [
              "1"
            ]
          },
          "execution_count": 924,
          "metadata": {},
          "output_type": "execute_result"
        }
      ]
    },
    {
      "cell_type": "code",
      "metadata": {
        "id": "hhD4q14sx0SF",
        "outputId": "c792590a-7e7d-440b-8890-947470171a11"
      },
      "source": [
        "X_train_kategorik.shape[1]"
      ],
      "execution_count": null,
      "outputs": [
        {
          "data": {
            "text/plain": [
              "532"
            ]
          },
          "execution_count": 925,
          "metadata": {},
          "output_type": "execute_result"
        }
      ]
    },
    {
      "cell_type": "code",
      "metadata": {
        "id": "mwLv5peAx0SG"
      },
      "source": [
        "from tensorflow.keras.layers import concatenate"
      ],
      "execution_count": null,
      "outputs": []
    },
    {
      "cell_type": "code",
      "metadata": {
        "id": "OqCkvxDxx0SG"
      },
      "source": [
        "from tensorflow.keras.layers import Dense"
      ],
      "execution_count": null,
      "outputs": []
    },
    {
      "cell_type": "code",
      "metadata": {
        "scrolled": true,
        "id": "xzpWf90ex0SH"
      },
      "source": [
        "# define two sets of inputs\n",
        "inputA = tf.keras.Sequential([\n",
        "    Dense(units = 16, input_shape=[X_train_kontinu.shape[1]]),\n",
        "    Dense(32, activation = 'relu'),\n",
        "])\n",
        "\n",
        "inputB = tf.keras.Sequential([\n",
        "    Dense(units = 32, input_shape=[X_train_kategorik.shape[1]]),\n",
        "    Dense(64, activation = 'relu'),\n",
        "])\n",
        "\n",
        "combinedInput = concatenate([inputA.output, inputB.output])\n",
        "x = Dense(64, activation=\"linear\")(combinedInput)\n",
        "x = Dense(128, activation=\"linear\")(x)\n",
        "x = Dense(256, activation=\"relu\")(x)\n",
        "x = Dense(256, activation=\"linear\")(x)"
      ],
      "execution_count": null,
      "outputs": []
    },
    {
      "cell_type": "code",
      "metadata": {
        "id": "MuxLdkkFx0SI"
      },
      "source": [
        "from tensorflow.keras.models import Model"
      ],
      "execution_count": null,
      "outputs": []
    },
    {
      "cell_type": "markdown",
      "metadata": {
        "id": "tL1t37ccx0SI"
      },
      "source": [
        "Model Final"
      ]
    },
    {
      "cell_type": "code",
      "metadata": {
        "id": "_NDMqk_fx0SJ"
      },
      "source": [
        "model = Model(inputs=[inputA.input, inputB.input], outputs=x)"
      ],
      "execution_count": null,
      "outputs": []
    },
    {
      "cell_type": "code",
      "metadata": {
        "id": "atVbNa31x0SK",
        "outputId": "1db43f2b-19b6-4d45-ea7f-5ca1e5ae08bf"
      },
      "source": [
        "model.compile(loss='mean_squared_error', optimizer='adam', metrics=['RootMeanSquaredError'])\n",
        "epochs = 50\n",
        "history = model.fit( x=[X_train_kontinu, X_train_kategorik], y=y_train, shuffle=True ,\n",
        "                    epochs=epochs)"
      ],
      "execution_count": null,
      "outputs": [
        {
          "name": "stdout",
          "output_type": "stream",
          "text": [
            "Epoch 1/50\n",
            "17/17 [==============================] - 7s 15ms/step - loss: 0.0021 - root_mean_squared_error: 0.0460\n",
            "Epoch 2/50\n",
            "17/17 [==============================] - 0s 7ms/step - loss: 0.0016 - root_mean_squared_error: 0.0394\n",
            "Epoch 3/50\n",
            "17/17 [==============================] - 0s 7ms/step - loss: 0.0014 - root_mean_squared_error: 0.0379\n",
            "Epoch 4/50\n",
            "17/17 [==============================] - 0s 5ms/step - loss: 0.0014 - root_mean_squared_error: 0.0373\n",
            "Epoch 5/50\n",
            "17/17 [==============================] - 0s 6ms/step - loss: 0.0012 - root_mean_squared_error: 0.0346\n",
            "Epoch 6/50\n",
            "17/17 [==============================] - 0s 5ms/step - loss: 0.0011 - root_mean_squared_error: 0.0331\n",
            "Epoch 7/50\n",
            "17/17 [==============================] - 0s 6ms/step - loss: 0.0010 - root_mean_squared_error: 0.0322\n",
            "Epoch 8/50\n",
            "17/17 [==============================] - 0s 5ms/step - loss: 9.7065e-04 - root_mean_squared_error: 0.0312\n",
            "Epoch 9/50\n",
            "17/17 [==============================] - 0s 8ms/step - loss: 9.0846e-04 - root_mean_squared_error: 0.0301\n",
            "Epoch 10/50\n",
            "17/17 [==============================] - 0s 7ms/step - loss: 8.4780e-04 - root_mean_squared_error: 0.0291\n",
            "Epoch 11/50\n",
            "17/17 [==============================] - 0s 7ms/step - loss: 8.3243e-04 - root_mean_squared_error: 0.0289\n",
            "Epoch 12/50\n",
            "17/17 [==============================] - 0s 6ms/step - loss: 8.3731e-04 - root_mean_squared_error: 0.0289\n",
            "Epoch 13/50\n",
            "17/17 [==============================] - 0s 7ms/step - loss: 0.0010 - root_mean_squared_error: 0.0321\n",
            "Epoch 14/50\n",
            "17/17 [==============================] - 0s 6ms/step - loss: 9.4724e-04 - root_mean_squared_error: 0.0308\n",
            "Epoch 15/50\n",
            "17/17 [==============================] - 0s 6ms/step - loss: 9.2151e-04 - root_mean_squared_error: 0.0304\n",
            "Epoch 16/50\n",
            "17/17 [==============================] - 0s 6ms/step - loss: 9.1898e-04 - root_mean_squared_error: 0.0303\n",
            "Epoch 17/50\n",
            "17/17 [==============================] - 0s 6ms/step - loss: 0.0011 - root_mean_squared_error: 0.0325\n",
            "Epoch 18/50\n",
            "17/17 [==============================] - 0s 7ms/step - loss: 0.0010 - root_mean_squared_error: 0.0319- ETA: 0s - loss: 0.0010 - root_mean_squared_error: 0.0321   \n",
            "Epoch 19/50\n",
            "17/17 [==============================] - 0s 6ms/step - loss: 9.1189e-04 - root_mean_squared_error: 0.0302\n",
            "Epoch 20/50\n",
            "17/17 [==============================] - 0s 6ms/step - loss: 8.5430e-04 - root_mean_squared_error: 0.0292\n",
            "Epoch 21/50\n",
            "17/17 [==============================] - 0s 7ms/step - loss: 8.9457e-04 - root_mean_squared_error: 0.0299\n",
            "Epoch 22/50\n",
            "17/17 [==============================] - 0s 7ms/step - loss: 8.9564e-04 - root_mean_squared_error: 0.0299\n",
            "Epoch 23/50\n",
            "17/17 [==============================] - 0s 7ms/step - loss: 7.9019e-04 - root_mean_squared_error: 0.0281\n",
            "Epoch 24/50\n",
            "17/17 [==============================] - 0s 7ms/step - loss: 7.8929e-04 - root_mean_squared_error: 0.0281\n",
            "Epoch 25/50\n",
            "17/17 [==============================] - 0s 6ms/step - loss: 8.5467e-04 - root_mean_squared_error: 0.0292\n",
            "Epoch 26/50\n",
            "17/17 [==============================] - 0s 7ms/step - loss: 8.2412e-04 - root_mean_squared_error: 0.0287\n",
            "Epoch 27/50\n",
            "17/17 [==============================] - 0s 6ms/step - loss: 7.7080e-04 - root_mean_squared_error: 0.0278\n",
            "Epoch 28/50\n",
            "17/17 [==============================] - 0s 7ms/step - loss: 8.0978e-04 - root_mean_squared_error: 0.0285\n",
            "Epoch 29/50\n",
            "17/17 [==============================] - 0s 6ms/step - loss: 7.7775e-04 - root_mean_squared_error: 0.0279\n",
            "Epoch 30/50\n",
            "17/17 [==============================] - ETA: 0s - loss: 7.8696e-04 - root_mean_squared_error: 0.028 - 0s 7ms/step - loss: 7.8696e-04 - root_mean_squared_error: 0.0281\n",
            "Epoch 31/50\n",
            "17/17 [==============================] - 0s 5ms/step - loss: 7.6861e-04 - root_mean_squared_error: 0.0277\n",
            "Epoch 32/50\n",
            "17/17 [==============================] - 0s 5ms/step - loss: 7.9084e-04 - root_mean_squared_error: 0.0281\n",
            "Epoch 33/50\n",
            "17/17 [==============================] - 0s 6ms/step - loss: 7.5793e-04 - root_mean_squared_error: 0.0275\n",
            "Epoch 34/50\n",
            "17/17 [==============================] - 0s 6ms/step - loss: 7.8686e-04 - root_mean_squared_error: 0.0281\n",
            "Epoch 35/50\n",
            "17/17 [==============================] - 0s 4ms/step - loss: 7.6663e-04 - root_mean_squared_error: 0.0277\n",
            "Epoch 36/50\n",
            "17/17 [==============================] - 0s 4ms/step - loss: 7.9047e-04 - root_mean_squared_error: 0.0281\n",
            "Epoch 37/50\n",
            "17/17 [==============================] - 0s 4ms/step - loss: 7.7402e-04 - root_mean_squared_error: 0.0278\n",
            "Epoch 38/50\n",
            "17/17 [==============================] - 0s 6ms/step - loss: 9.9983e-04 - root_mean_squared_error: 0.0316\n",
            "Epoch 39/50\n",
            "17/17 [==============================] - 0s 6ms/step - loss: 8.9828e-04 - root_mean_squared_error: 0.0300\n",
            "Epoch 40/50\n",
            "17/17 [==============================] - 0s 9ms/step - loss: 8.5253e-04 - root_mean_squared_error: 0.0292\n",
            "Epoch 41/50\n",
            "17/17 [==============================] - 0s 6ms/step - loss: 7.7886e-04 - root_mean_squared_error: 0.0279\n",
            "Epoch 42/50\n",
            "17/17 [==============================] - 0s 6ms/step - loss: 8.1742e-04 - root_mean_squared_error: 0.0286\n",
            "Epoch 43/50\n",
            "17/17 [==============================] - 0s 8ms/step - loss: 8.5929e-04 - root_mean_squared_error: 0.0293\n",
            "Epoch 44/50\n",
            "17/17 [==============================] - 0s 5ms/step - loss: 9.4110e-04 - root_mean_squared_error: 0.0307\n",
            "Epoch 45/50\n",
            "17/17 [==============================] - 0s 5ms/step - loss: 8.0207e-04 - root_mean_squared_error: 0.0283\n",
            "Epoch 46/50\n",
            "17/17 [==============================] - 0s 5ms/step - loss: 8.3246e-04 - root_mean_squared_error: 0.0289\n",
            "Epoch 47/50\n",
            "17/17 [==============================] - 0s 5ms/step - loss: 8.3743e-04 - root_mean_squared_error: 0.0289\n",
            "Epoch 48/50\n",
            "17/17 [==============================] - 0s 4ms/step - loss: 8.2474e-04 - root_mean_squared_error: 0.0287\n",
            "Epoch 49/50\n",
            "17/17 [==============================] - 0s 5ms/step - loss: 8.5087e-04 - root_mean_squared_error: 0.0292\n",
            "Epoch 50/50\n",
            "17/17 [==============================] - 0s 4ms/step - loss: 7.6525e-04 - root_mean_squared_error: 0.0277\n"
          ]
        }
      ]
    },
    {
      "cell_type": "code",
      "metadata": {
        "id": "TNY4vUUrx0SK"
      },
      "source": [
        "model.save(\"my_model_final!\",save_format=\"h5\")"
      ],
      "execution_count": null,
      "outputs": []
    },
    {
      "cell_type": "code",
      "metadata": {
        "scrolled": true,
        "id": "UlJsEeJTx0SL",
        "outputId": "10aeb271-e89d-427c-966f-9ecd51a6369f"
      },
      "source": [
        "plot_graphs(history, \"root_mean_squared_error\", 'Price')\n",
        "plot_graphs(history, \"loss\", 'Price')"
      ],
      "execution_count": null,
      "outputs": [
        {
          "ename": "KeyError",
          "evalue": "'val_root_mean_squared_error'",
          "output_type": "error",
          "traceback": [
            "\u001b[1;31m---------------------------------------------------------------------------\u001b[0m",
            "\u001b[1;31mKeyError\u001b[0m                                  Traceback (most recent call last)",
            "\u001b[1;32m<ipython-input-964-c037d5a101b3>\u001b[0m in \u001b[0;36m<module>\u001b[1;34m\u001b[0m\n\u001b[1;32m----> 1\u001b[1;33m \u001b[0mplot_graphs\u001b[0m\u001b[1;33m(\u001b[0m\u001b[0mhistory\u001b[0m\u001b[1;33m,\u001b[0m \u001b[1;34m\"root_mean_squared_error\"\u001b[0m\u001b[1;33m,\u001b[0m \u001b[1;34m'Price'\u001b[0m\u001b[1;33m)\u001b[0m\u001b[1;33m\u001b[0m\u001b[1;33m\u001b[0m\u001b[0m\n\u001b[0m\u001b[0;32m      2\u001b[0m \u001b[0mplot_graphs\u001b[0m\u001b[1;33m(\u001b[0m\u001b[0mhistory\u001b[0m\u001b[1;33m,\u001b[0m \u001b[1;34m\"loss\"\u001b[0m\u001b[1;33m,\u001b[0m \u001b[1;34m'Price'\u001b[0m\u001b[1;33m)\u001b[0m\u001b[1;33m\u001b[0m\u001b[1;33m\u001b[0m\u001b[0m\n",
            "\u001b[1;32m<ipython-input-671-0b4df6139ee0>\u001b[0m in \u001b[0;36mplot_graphs\u001b[1;34m(history, string, model)\u001b[0m\n\u001b[0;32m      1\u001b[0m \u001b[1;32mdef\u001b[0m \u001b[0mplot_graphs\u001b[0m\u001b[1;33m(\u001b[0m\u001b[0mhistory\u001b[0m\u001b[1;33m,\u001b[0m \u001b[0mstring\u001b[0m\u001b[1;33m,\u001b[0m \u001b[0mmodel\u001b[0m\u001b[1;33m)\u001b[0m\u001b[1;33m:\u001b[0m\u001b[1;33m\u001b[0m\u001b[1;33m\u001b[0m\u001b[0m\n\u001b[0;32m      2\u001b[0m   \u001b[0mplt\u001b[0m\u001b[1;33m.\u001b[0m\u001b[0mplot\u001b[0m\u001b[1;33m(\u001b[0m\u001b[0mhistory\u001b[0m\u001b[1;33m.\u001b[0m\u001b[0mhistory\u001b[0m\u001b[1;33m[\u001b[0m\u001b[0mstring\u001b[0m\u001b[1;33m]\u001b[0m\u001b[1;33m)\u001b[0m\u001b[1;33m\u001b[0m\u001b[1;33m\u001b[0m\u001b[0m\n\u001b[1;32m----> 3\u001b[1;33m   \u001b[0mplt\u001b[0m\u001b[1;33m.\u001b[0m\u001b[0mplot\u001b[0m\u001b[1;33m(\u001b[0m\u001b[0mhistory\u001b[0m\u001b[1;33m.\u001b[0m\u001b[0mhistory\u001b[0m\u001b[1;33m[\u001b[0m\u001b[1;34m'val_'\u001b[0m\u001b[1;33m+\u001b[0m\u001b[0mstring\u001b[0m\u001b[1;33m]\u001b[0m\u001b[1;33m)\u001b[0m\u001b[1;33m\u001b[0m\u001b[1;33m\u001b[0m\u001b[0m\n\u001b[0m\u001b[0;32m      4\u001b[0m   \u001b[0mplt\u001b[0m\u001b[1;33m.\u001b[0m\u001b[0mxlabel\u001b[0m\u001b[1;33m(\u001b[0m\u001b[1;34m\"Epochs\"\u001b[0m\u001b[1;33m)\u001b[0m\u001b[1;33m\u001b[0m\u001b[1;33m\u001b[0m\u001b[0m\n\u001b[0;32m      5\u001b[0m   \u001b[0mplt\u001b[0m\u001b[1;33m.\u001b[0m\u001b[0mylabel\u001b[0m\u001b[1;33m(\u001b[0m\u001b[0mstring\u001b[0m\u001b[1;33m)\u001b[0m\u001b[1;33m\u001b[0m\u001b[1;33m\u001b[0m\u001b[0m\n",
            "\u001b[1;31mKeyError\u001b[0m: 'val_root_mean_squared_error'"
          ]
        },
        {
          "data": {
            "image/png": "[encoded data removed]",
            "text/plain": [
              "<Figure size 432x288 with 1 Axes>"
            ]
          },
          "metadata": {
            "needs_background": "light"
          },
          "output_type": "display_data"
        }
      ]
    }
  ]
}